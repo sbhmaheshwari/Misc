{
 "cells": [
  {
   "cell_type": "code",
   "execution_count": 1,
   "metadata": {
    "collapsed": true
   },
   "outputs": [],
   "source": [
    "%reload_ext autoreload\n",
    "%autoreload 2\n",
    "%matplotlib inline"
   ]
  },
  {
   "cell_type": "code",
   "execution_count": 2,
   "metadata": {},
   "outputs": [],
   "source": [
    "import os\n",
    "mingw_path = 'C:\\\\Program Files\\\\mingw-w64\\\\x86_64-7.3.0-posix-seh-rt_v5-rev0\\\\mingw64\\\\bin'\n",
    "os.environ['PATH'] = mingw_path + ';' + os.environ['PATH']"
   ]
  },
  {
   "cell_type": "code",
   "execution_count": 3,
   "metadata": {},
   "outputs": [],
   "source": [
    "import pandas as pd\n",
    "import numpy as np\n",
    "import matplotlib.pyplot as plt\n",
    "plt.style.use('ggplot')\n",
    "import pickle\n",
    "import csv\n",
    "from scipy.stats import chisquare, chi2_contingency\n",
    "from sklearn.model_selection import train_test_split\n",
    "from sklearn.preprocessing import OneHotEncoder\n",
    "from sklearn.compose import ColumnTransformer\n",
    "from sklearn.preprocessing import LabelEncoder\n",
    "from geopy.distance import distance\n",
    "import os\n",
    "import ast\n",
    "from hyperopt import STATUS_OK\n",
    "import xgboost as xgb\n",
    "from xgboost import XGBRegressor\n",
    "from hyperopt import hp\n",
    "import hyperopt\n",
    "from timeit import default_timer as timer"
   ]
  },
  {
   "cell_type": "code",
   "execution_count": 4,
   "metadata": {
    "collapsed": true
   },
   "outputs": [],
   "source": [
    "# define root mean square error\n",
    "def rmse(act, pre): return(np.sqrt(np.mean(np.square(act-pre))))"
   ]
  },
  {
   "cell_type": "code",
   "execution_count": 5,
   "metadata": {
    "collapsed": true
   },
   "outputs": [],
   "source": [
    "# Calculate number of stations within key distance from building\n",
    "def calc_dis(p, key = 1):\n",
    "    dis = np.array([distance(p,x).miles for x in sub_cord])\n",
    "    best_stations = sum(dis<key) \n",
    "    return(best_stations)"
   ]
  },
  {
   "cell_type": "code",
   "execution_count": 6,
   "metadata": {
    "collapsed": true
   },
   "outputs": [],
   "source": [
    "# Create variable to demarkate how far is a block from central park\n",
    "def map_dis(val):\n",
    "    if val in one_block_away:\n",
    "        dis = 'one_block_away'\n",
    "    elif val in two_block_away:\n",
    "        dis = 'two_block_away'\n",
    "    else:\n",
    "        dis = 'three_block_away'\n",
    "    return(dis)"
   ]
  },
  {
   "cell_type": "code",
   "execution_count": 7,
   "metadata": {
    "collapsed": true
   },
   "outputs": [],
   "source": [
    "# Hyperopt optimization\n",
    "def objective(params):\n",
    "    global ITERATION\n",
    "    ITERATION +=1\n",
    "    model = XGBRegressor(learning_rate = 0.05, max_depth = params['depth'], \n",
    "                         min_child_weight = params['min_child_weight'], gamma = params['gamma'], \n",
    "                         subsample = params['subsample'], colsample_bytree=params['colsample_bytree'], \n",
    "                         eval_metric='rmse', seed = 24, n_jobs = -1)\n",
    "    start = timer()\n",
    "    srtc = []\n",
    "    xgtrain = xgb.DMatrix(X_ps_train_enc, label=y_ps_train)\n",
    "    xgval = xgb.DMatrix(X_ps_test_enc, label = y_ps_test)\n",
    "    xgb_params = model.get_xgb_params()\n",
    "    watchlist = [(xgtrain, 'train'), (xgval, 'val')]\n",
    "    xgbresults = xgb.train(xgb_params, xgtrain, num_boost_round = 5000, evals = watchlist, \n",
    "                           early_stopping_rounds = 100, verbose_eval = False)\n",
    "    n_tree = xgbresults.best_ntree_limit\n",
    "    #print('n_tree: {}'.format(n_tree))\n",
    "    srtc.append(rmse(xgbresults.predict(xgb.DMatrix(X_ps_test_enc)), y_ps_test))\n",
    "    train_time = timer()-start\n",
    "    loss = np.mean(srtc)\n",
    "    if ITERATION%50 == 0: \n",
    "        print('ITERATION: %d' %(ITERATION))\n",
    "        print('params: ', params)\n",
    "        print('loss: %.5f' %(loss))\n",
    "    of_connection = open(out_file, 'a')\n",
    "    writer = csv.writer(of_connection)\n",
    "    writer.writerow([ITERATION, loss, params, train_time, n_tree])\n",
    "    return {'iteration': ITERATION, 'loss': loss, 'params': params,   \n",
    "            'train_time': train_time, 'n_trees': n_tree, 'status': STATUS_OK}"
   ]
  },
  {
   "cell_type": "code",
   "execution_count": 8,
   "metadata": {},
   "outputs": [
    {
     "name": "stderr",
     "output_type": "stream",
     "text": [
      "F:\\Python\\lib\\site-packages\\IPython\\core\\interactiveshell.py:2698: DtypeWarning: Columns (8,9,15,31,33,34,35,36,51,52) have mixed types. Specify dtype option on import or set low_memory=False.\n",
      "  interactivity=interactivity, compiler=compiler, result=result)\n"
     ]
    }
   ],
   "source": [
    "# import PID data\n",
    "data = pd.read_csv(r'F:\\Old_Desktop\\UC Davis\\NYC permit data\\DOB_Permit_Issuance.csv')"
   ]
  },
  {
   "cell_type": "code",
   "execution_count": 9,
   "metadata": {},
   "outputs": [
    {
     "name": "stdout",
     "output_type": "stream",
     "text": [
      "(2370415, 60)\n"
     ]
    },
    {
     "data": {
      "text/html": [
       "<div>\n",
       "<style scoped>\n",
       "    .dataframe tbody tr th:only-of-type {\n",
       "        vertical-align: middle;\n",
       "    }\n",
       "\n",
       "    .dataframe tbody tr th {\n",
       "        vertical-align: top;\n",
       "    }\n",
       "\n",
       "    .dataframe thead th {\n",
       "        text-align: right;\n",
       "    }\n",
       "</style>\n",
       "<table border=\"1\" class=\"dataframe\">\n",
       "  <thead>\n",
       "    <tr style=\"text-align: right;\">\n",
       "      <th></th>\n",
       "      <th>BOROUGH</th>\n",
       "      <th>Bin #</th>\n",
       "      <th>House #</th>\n",
       "      <th>Street Name</th>\n",
       "      <th>Job #</th>\n",
       "      <th>Job doc. #</th>\n",
       "      <th>Job Type</th>\n",
       "      <th>Self_Cert</th>\n",
       "      <th>Block</th>\n",
       "      <th>Lot</th>\n",
       "      <th>...</th>\n",
       "      <th>Owner’s House State</th>\n",
       "      <th>Owner’s House Zip Code</th>\n",
       "      <th>Owner's Phone #</th>\n",
       "      <th>DOBRunDate</th>\n",
       "      <th>PERMIT_SI_NO</th>\n",
       "      <th>LATITUDE</th>\n",
       "      <th>LONGITUDE</th>\n",
       "      <th>COUNCIL_DISTRICT</th>\n",
       "      <th>CENSUS_TRACT</th>\n",
       "      <th>NTA_NAME</th>\n",
       "    </tr>\n",
       "  </thead>\n",
       "  <tbody>\n",
       "    <tr>\n",
       "      <th>0</th>\n",
       "      <td>BRONX</td>\n",
       "      <td>2102476.0</td>\n",
       "      <td>200</td>\n",
       "      <td>E 135TH STREET</td>\n",
       "      <td>240249842.0</td>\n",
       "      <td>1.0</td>\n",
       "      <td>A2</td>\n",
       "      <td>Y</td>\n",
       "      <td>2319</td>\n",
       "      <td>120</td>\n",
       "      <td>...</td>\n",
       "      <td>PA</td>\n",
       "      <td>19355</td>\n",
       "      <td>6.10401e+09</td>\n",
       "      <td>03/27/2019 12:00:00 AM</td>\n",
       "      <td>3608996.0</td>\n",
       "      <td>40.810699</td>\n",
       "      <td>-73.931313</td>\n",
       "      <td>8.0</td>\n",
       "      <td>51.0</td>\n",
       "      <td>Mott Haven-Port Morris</td>\n",
       "    </tr>\n",
       "    <tr>\n",
       "      <th>1</th>\n",
       "      <td>MANHATTAN</td>\n",
       "      <td>1090833.0</td>\n",
       "      <td>249</td>\n",
       "      <td>WEST 14 STREET</td>\n",
       "      <td>140818435.0</td>\n",
       "      <td>1.0</td>\n",
       "      <td>A3</td>\n",
       "      <td>Y</td>\n",
       "      <td>764</td>\n",
       "      <td>10</td>\n",
       "      <td>...</td>\n",
       "      <td>NY</td>\n",
       "      <td>11101</td>\n",
       "      <td>7.18392e+09</td>\n",
       "      <td>03/27/2019 12:00:00 AM</td>\n",
       "      <td>3609359.0</td>\n",
       "      <td>40.739151</td>\n",
       "      <td>-74.001075</td>\n",
       "      <td>3.0</td>\n",
       "      <td>81.0</td>\n",
       "      <td>Hudson Yards-Chelsea-Flatiron-Union Square</td>\n",
       "    </tr>\n",
       "    <tr>\n",
       "      <th>2</th>\n",
       "      <td>MANHATTAN</td>\n",
       "      <td>1015903.0</td>\n",
       "      <td>20</td>\n",
       "      <td>WEST 36TH STREET</td>\n",
       "      <td>123372466.0</td>\n",
       "      <td>2.0</td>\n",
       "      <td>A2</td>\n",
       "      <td>Y</td>\n",
       "      <td>837</td>\n",
       "      <td>58</td>\n",
       "      <td>...</td>\n",
       "      <td>NY</td>\n",
       "      <td>10021</td>\n",
       "      <td>2.12249e+09</td>\n",
       "      <td>03/27/2019 12:00:00 AM</td>\n",
       "      <td>3609159.0</td>\n",
       "      <td>40.750090</td>\n",
       "      <td>-73.984513</td>\n",
       "      <td>4.0</td>\n",
       "      <td>84.0</td>\n",
       "      <td>Midtown-Midtown South</td>\n",
       "    </tr>\n",
       "    <tr>\n",
       "      <th>3</th>\n",
       "      <td>QUEENS</td>\n",
       "      <td>4467709.0</td>\n",
       "      <td>14-30</td>\n",
       "      <td>BROADWAY</td>\n",
       "      <td>421105618.0</td>\n",
       "      <td>1.0</td>\n",
       "      <td>A2</td>\n",
       "      <td>Y</td>\n",
       "      <td>529</td>\n",
       "      <td>2</td>\n",
       "      <td>...</td>\n",
       "      <td>NY</td>\n",
       "      <td>11101</td>\n",
       "      <td>7.18473e+09</td>\n",
       "      <td>03/27/2019 12:00:00 AM</td>\n",
       "      <td>3609358.0</td>\n",
       "      <td>40.765826</td>\n",
       "      <td>-73.932800</td>\n",
       "      <td>22.0</td>\n",
       "      <td>45.0</td>\n",
       "      <td>Astoria</td>\n",
       "    </tr>\n",
       "    <tr>\n",
       "      <th>4</th>\n",
       "      <td>QUEENS</td>\n",
       "      <td>4048873.0</td>\n",
       "      <td>42-06</td>\n",
       "      <td>108 STREET</td>\n",
       "      <td>421024689.0</td>\n",
       "      <td>1.0</td>\n",
       "      <td>A1</td>\n",
       "      <td>N</td>\n",
       "      <td>1986</td>\n",
       "      <td>37</td>\n",
       "      <td>...</td>\n",
       "      <td>NY</td>\n",
       "      <td>11368</td>\n",
       "      <td>7.18279e+09</td>\n",
       "      <td>03/27/2019 12:00:00 AM</td>\n",
       "      <td>3606599.0</td>\n",
       "      <td>40.749221</td>\n",
       "      <td>-73.858003</td>\n",
       "      <td>21.0</td>\n",
       "      <td>403.0</td>\n",
       "      <td>North Corona</td>\n",
       "    </tr>\n",
       "  </tbody>\n",
       "</table>\n",
       "<p>5 rows × 60 columns</p>\n",
       "</div>"
      ],
      "text/plain": [
       "     BOROUGH      Bin # House #       Street Name        Job #  Job doc. #  \\\n",
       "0      BRONX  2102476.0     200    E 135TH STREET  240249842.0         1.0   \n",
       "1  MANHATTAN  1090833.0     249    WEST 14 STREET  140818435.0         1.0   \n",
       "2  MANHATTAN  1015903.0      20  WEST 36TH STREET  123372466.0         2.0   \n",
       "3     QUEENS  4467709.0   14-30          BROADWAY  421105618.0         1.0   \n",
       "4     QUEENS  4048873.0   42-06        108 STREET  421024689.0         1.0   \n",
       "\n",
       "  Job Type Self_Cert Block  Lot                     ...                      \\\n",
       "0       A2         Y  2319  120                     ...                       \n",
       "1       A3         Y   764   10                     ...                       \n",
       "2       A2         Y   837   58                     ...                       \n",
       "3       A2         Y   529    2                     ...                       \n",
       "4       A1         N  1986   37                     ...                       \n",
       "\n",
       "   Owner’s House State  Owner’s House Zip Code  Owner's Phone #  \\\n",
       "0                   PA                   19355      6.10401e+09   \n",
       "1                   NY                   11101      7.18392e+09   \n",
       "2                   NY                   10021      2.12249e+09   \n",
       "3                   NY                   11101      7.18473e+09   \n",
       "4                   NY                   11368      7.18279e+09   \n",
       "\n",
       "               DOBRunDate PERMIT_SI_NO   LATITUDE  LONGITUDE COUNCIL_DISTRICT  \\\n",
       "0  03/27/2019 12:00:00 AM    3608996.0  40.810699 -73.931313              8.0   \n",
       "1  03/27/2019 12:00:00 AM    3609359.0  40.739151 -74.001075              3.0   \n",
       "2  03/27/2019 12:00:00 AM    3609159.0  40.750090 -73.984513              4.0   \n",
       "3  03/27/2019 12:00:00 AM    3609358.0  40.765826 -73.932800             22.0   \n",
       "4  03/27/2019 12:00:00 AM    3606599.0  40.749221 -73.858003             21.0   \n",
       "\n",
       "  CENSUS_TRACT                                    NTA_NAME  \n",
       "0         51.0                      Mott Haven-Port Morris  \n",
       "1         81.0  Hudson Yards-Chelsea-Flatiron-Union Square  \n",
       "2         84.0                       Midtown-Midtown South  \n",
       "3         45.0                                     Astoria  \n",
       "4        403.0                                North Corona  \n",
       "\n",
       "[5 rows x 60 columns]"
      ]
     },
     "execution_count": 9,
     "metadata": {},
     "output_type": "execute_result"
    }
   ],
   "source": [
    "print(data.shape)\n",
    "data.head()"
   ]
  },
  {
   "cell_type": "code",
   "execution_count": 10,
   "metadata": {},
   "outputs": [
    {
     "data": {
      "text/plain": [
       "Index(['BOROUGH', 'Bin #', 'House #', 'Street Name', 'Job #', 'Job doc. #',\n",
       "       'Job Type', 'Self_Cert', 'Block', 'Lot', 'Community Board', 'Zip Code',\n",
       "       'Bldg Type', 'Residential', 'Special District 1', 'Special District 2',\n",
       "       'Work Type', 'Permit Status', 'Filing Status', 'Permit Type',\n",
       "       'Permit Sequence #', 'Permit Subtype', 'Oil Gas', 'Site Fill',\n",
       "       'Filing Date', 'Issuance Date', 'Expiration Date', 'Job Start Date',\n",
       "       'Permittee's First Name', 'Permittee's Last Name',\n",
       "       'Permittee's Business Name', 'Permittee's Phone #',\n",
       "       'Permittee's License Type', 'Permittee's License #',\n",
       "       'Act as Superintendent', 'Permittee's Other Title', 'HIC License',\n",
       "       'Site Safety Mgr's First Name', 'Site Safety Mgr's Last Name',\n",
       "       'Site Safety Mgr Business Name', 'Superintendent First & Last Name',\n",
       "       'Superintendent Business Name', 'Owner's Business Type', 'Non-Profit',\n",
       "       'Owner's Business Name', 'Owner's First Name', 'Owner's Last Name',\n",
       "       'Owner's House #', 'Owner's House Street Name', 'Owner’s House City',\n",
       "       'Owner’s House State', 'Owner’s House Zip Code', 'Owner's Phone #',\n",
       "       'DOBRunDate', 'PERMIT_SI_NO', 'LATITUDE', 'LONGITUDE',\n",
       "       'COUNCIL_DISTRICT', 'CENSUS_TRACT', 'NTA_NAME'],\n",
       "      dtype='object')"
      ]
     },
     "execution_count": 10,
     "metadata": {},
     "output_type": "execute_result"
    }
   ],
   "source": [
    "data.columns"
   ]
  },
  {
   "cell_type": "code",
   "execution_count": 11,
   "metadata": {},
   "outputs": [
    {
     "data": {
      "text/plain": [
       "array(['BRONX', 'MANHATTAN', 'QUEENS', 'BROOKLYN', 'STATEN ISLAND',\n",
       "       '  \"error\" : true', '  \"message\" : \"Internal error\"',\n",
       "       '  \"status\" : 500', '}'], dtype=object)"
      ]
     },
     "execution_count": 11,
     "metadata": {},
     "output_type": "execute_result"
    }
   ],
   "source": [
    "data['BOROUGH'].unique()"
   ]
  },
  {
   "cell_type": "code",
   "execution_count": 12,
   "metadata": {
    "collapsed": true
   },
   "outputs": [],
   "source": [
    "# Valid borough values\n",
    "data = data.loc[data['BOROUGH'].isin(['BRONX', 'MANHATTAN', 'QUEENS', 'BROOKLYN', 'STATEN ISLAND']),:]"
   ]
  },
  {
   "cell_type": "code",
   "execution_count": 13,
   "metadata": {
    "collapsed": true
   },
   "outputs": [],
   "source": [
    "# Columns to be deleted\n",
    "del_cols = ['Bin #', 'House #', 'Job #', 'Job doc. #', 'Special District 1', 'Special District 2', 'Oil Gas', 'Site Fill',\n",
    "           \"Permittee's First Name\", \"Permittee's Last Name\", \"Permittee's Business Name\", \"Permittee's Phone #\",\n",
    "           \"Permittee's License #\", 'Act as Superintendent', \"Permittee's Other Title\", 'HIC License', \n",
    "            \"Site Safety Mgr's First Name\", \"Site Safety Mgr's Last Name\", 'Site Safety Mgr Business Name', \n",
    "            'Superintendent First & Last Name', 'Superintendent Business Name', \"Owner's Business Name\", \"Owner's First Name\", \n",
    "            \"Owner's Last Name\", \"Owner's House #\", \"Owner's House Street Name\", \"Owner’s House State\", \"Owner’s House Zip Code\", \n",
    "            \"Owner's Phone #\", \"Owner’s House City\", 'PERMIT_SI_NO']\n",
    "data.drop(del_cols, inplace = True, axis = 1)"
   ]
  },
  {
   "cell_type": "code",
   "execution_count": 15,
   "metadata": {},
   "outputs": [
    {
     "name": "stdout",
     "output_type": "stream",
     "text": [
      "BOROUGH ['BRONX' 'MANHATTAN' 'QUEENS' 'BROOKLYN' 'STATEN ISLAND']\n",
      "Job Type ['A2' 'A3' 'A1' 'NB' 'DM' 'SG']\n",
      "Bldg Type [ 2.  1. nan]\n",
      "Work Type ['PL' 'EQ' 'MH' nan 'OT' 'SP' 'SD' 'FS' 'FP' 'BL' 'FB' 'CC' 'FA']\n",
      "Permit Status ['ISSUED' 'RE-ISSUED' nan 'IN PROCESS' 'REVOKED']\n",
      "Filing Status ['INITIAL' 'RENEWAL']\n",
      "Permit Type ['PL' 'EQ' 'EW' 'AL' 'FO' 'NB' 'DM' 'SG']\n",
      "Permit Subtype [nan 'OT' 'MH' 'EA' 'SP' 'CH' 'SH' 'FN' 'SD' 'FS' 'FP' 'BL' 'SF' 'FB' 'FA']\n",
      "Permittee's License Type ['MP' 'GC' 'FS' 'NW' 'OB' 'OW' 'PE' 'SI' 'RA' nan 'DM' 'HI']\n",
      "Residential [nan 'YES']\n"
     ]
    },
    {
     "data": {
      "text/plain": [
       "[None, None, None, None, None, None, None, None, None, None]"
      ]
     },
     "execution_count": 15,
     "metadata": {},
     "output_type": "execute_result"
    }
   ],
   "source": [
    "cat_cols = ['BOROUGH', 'Job Type', 'Bldg Type', 'Work Type', 'Permit Status', 'Filing Status',\n",
    "            'Permit Type', 'Permit Subtype', \"Permittee's License Type\", 'Residential']\n",
    "[print(k, data[k].unique()) for k in cat_cols]"
   ]
  },
  {
   "cell_type": "code",
   "execution_count": 16,
   "metadata": {
    "collapsed": true
   },
   "outputs": [],
   "source": [
    "# mapping the values\n",
    "data['Permit Type'] = data['Permit Type'].map({'EW': 'Equipment Work', 'PL': 'Plumbing',\n",
    "                                            'EQ': 'Construction Equipment', 'AL': 'Alteration',\n",
    "                                            'NB': 'New Building', 'FO': 'Foundation',\n",
    "                                            'SG': 'Sign', 'DM': 'Demolition'})"
   ]
  },
  {
   "cell_type": "code",
   "execution_count": 17,
   "metadata": {
    "collapsed": true
   },
   "outputs": [],
   "source": [
    "# Converting datetime columns to datetime format\n",
    "date_cols = ['Filing Date', 'Issuance Date', 'Expiration Date']\n",
    "data[date_cols] = data[date_cols].apply(lambda x: pd.to_datetime(x, format='%m/%d/%Y %I:%M:%S %p'))"
   ]
  },
  {
   "cell_type": "code",
   "execution_count": 18,
   "metadata": {
    "collapsed": true
   },
   "outputs": [],
   "source": [
    "# save the dataframe\n",
    "with open(r'F:\\Old_Desktop\\UC Davis\\NYC permit data\\data.pkl', 'wb') as file:\n",
    "    pickle.dump(data, file, protocol=pickle.HIGHEST_PROTOCOL)"
   ]
  },
  {
   "cell_type": "code",
   "execution_count": 19,
   "metadata": {},
   "outputs": [],
   "source": [
    "# with open(r'F:\\Old_Desktop\\UC Davis\\NYC permit data\\data.pkl', 'rb') as file:\n",
    "#     data = pickle.load(file)"
   ]
  },
  {
   "cell_type": "markdown",
   "metadata": {},
   "source": [
    "#### Is the variation in number of permits for residential buildings across the boroughs statistically significant?"
   ]
  },
  {
   "cell_type": "code",
   "execution_count": 20,
   "metadata": {},
   "outputs": [],
   "source": [
    "# data with Residential building\n",
    "data_resid = data.query(\"Residential == 'YES'\")"
   ]
  },
  {
   "cell_type": "code",
   "execution_count": 21,
   "metadata": {},
   "outputs": [
    {
     "data": {
      "text/plain": [
       "(1111522, 29)"
      ]
     },
     "execution_count": 21,
     "metadata": {},
     "output_type": "execute_result"
    }
   ],
   "source": [
    "data_resid.shape"
   ]
  },
  {
   "cell_type": "code",
   "execution_count": 22,
   "metadata": {},
   "outputs": [],
   "source": [
    "resid_borough = data_resid.groupby('BOROUGH').size()\n",
    "tot_borough = data.groupby('BOROUGH').size()"
   ]
  },
  {
   "cell_type": "code",
   "execution_count": 23,
   "metadata": {},
   "outputs": [
    {
     "data": {
      "text/plain": [
       "Text(0.5, 1.0, 'Rate of Residential permits w.r.t boroughs')"
      ]
     },
     "execution_count": 23,
     "metadata": {},
     "output_type": "execute_result"
    },
    {
     "data": {
      "image/png": "[encoded data removed]",
      "text/plain": [
       "<Figure size 432x288 with 1 Axes>"
      ]
     },
     "metadata": {},
     "output_type": "display_data"
    }
   ],
   "source": [
    "(resid_borough/tot_borough).plot(kind = 'bar')\n",
    "plt.ylabel('Residential permits/Total permits')\n",
    "plt.title('Rate of Residential permits w.r.t boroughs')"
   ]
  },
  {
   "cell_type": "code",
   "execution_count": 24,
   "metadata": {},
   "outputs": [
    {
     "data": {
      "text/plain": [
       "0.46891530624857886"
      ]
     },
     "execution_count": 24,
     "metadata": {},
     "output_type": "execute_result"
    }
   ],
   "source": [
    "resid_borough.sum()/tot_borough.sum()"
   ]
  },
  {
   "cell_type": "code",
   "execution_count": 25,
   "metadata": {},
   "outputs": [
    {
     "data": {
      "text/plain": [
       "Power_divergenceResult(statistic=48297.07436704736, pvalue=0.0)"
      ]
     },
     "execution_count": 25,
     "metadata": {},
     "output_type": "execute_result"
    }
   ],
   "source": [
    "chisquare(resid_borough.values, 0.468*tot_borough.values)"
   ]
  },
  {
   "cell_type": "markdown",
   "metadata": {},
   "source": [
    "#### Does NYC prefer permits for a particular job type over the other depending on the borough?"
   ]
  },
  {
   "cell_type": "code",
   "execution_count": 26,
   "metadata": {
    "collapsed": true
   },
   "outputs": [],
   "source": [
    "tot_borough_jtype = pd.crosstab(data['BOROUGH'], data['Job Type'])"
   ]
  },
  {
   "cell_type": "code",
   "execution_count": 27,
   "metadata": {},
   "outputs": [
    {
     "data": {
      "text/html": [
       "<div>\n",
       "<style scoped>\n",
       "    .dataframe tbody tr th:only-of-type {\n",
       "        vertical-align: middle;\n",
       "    }\n",
       "\n",
       "    .dataframe tbody tr th {\n",
       "        vertical-align: top;\n",
       "    }\n",
       "\n",
       "    .dataframe thead th {\n",
       "        text-align: right;\n",
       "    }\n",
       "</style>\n",
       "<table border=\"1\" class=\"dataframe\">\n",
       "  <thead>\n",
       "    <tr style=\"text-align: right;\">\n",
       "      <th>Job Type</th>\n",
       "      <th>A1</th>\n",
       "      <th>A2</th>\n",
       "      <th>A3</th>\n",
       "      <th>DM</th>\n",
       "      <th>NB</th>\n",
       "      <th>SG</th>\n",
       "    </tr>\n",
       "    <tr>\n",
       "      <th>BOROUGH</th>\n",
       "      <th></th>\n",
       "      <th></th>\n",
       "      <th></th>\n",
       "      <th></th>\n",
       "      <th></th>\n",
       "      <th></th>\n",
       "    </tr>\n",
       "  </thead>\n",
       "  <tbody>\n",
       "    <tr>\n",
       "      <th>BRONX</th>\n",
       "      <td>14000</td>\n",
       "      <td>100561</td>\n",
       "      <td>28115</td>\n",
       "      <td>4865</td>\n",
       "      <td>39847</td>\n",
       "      <td>4680</td>\n",
       "    </tr>\n",
       "    <tr>\n",
       "      <th>BROOKLYN</th>\n",
       "      <td>79550</td>\n",
       "      <td>299728</td>\n",
       "      <td>69133</td>\n",
       "      <td>18861</td>\n",
       "      <td>107971</td>\n",
       "      <td>8744</td>\n",
       "    </tr>\n",
       "    <tr>\n",
       "      <th>MANHATTAN</th>\n",
       "      <td>45666</td>\n",
       "      <td>748027</td>\n",
       "      <td>131240</td>\n",
       "      <td>6718</td>\n",
       "      <td>22593</td>\n",
       "      <td>17983</td>\n",
       "    </tr>\n",
       "    <tr>\n",
       "      <th>QUEENS</th>\n",
       "      <td>85367</td>\n",
       "      <td>229350</td>\n",
       "      <td>45328</td>\n",
       "      <td>21102</td>\n",
       "      <td>114921</td>\n",
       "      <td>9659</td>\n",
       "    </tr>\n",
       "    <tr>\n",
       "      <th>STATEN ISLAND</th>\n",
       "      <td>14009</td>\n",
       "      <td>43307</td>\n",
       "      <td>7038</td>\n",
       "      <td>6802</td>\n",
       "      <td>42452</td>\n",
       "      <td>2794</td>\n",
       "    </tr>\n",
       "  </tbody>\n",
       "</table>\n",
       "</div>"
      ],
      "text/plain": [
       "Job Type          A1      A2      A3     DM      NB     SG\n",
       "BOROUGH                                                   \n",
       "BRONX          14000  100561   28115   4865   39847   4680\n",
       "BROOKLYN       79550  299728   69133  18861  107971   8744\n",
       "MANHATTAN      45666  748027  131240   6718   22593  17983\n",
       "QUEENS         85367  229350   45328  21102  114921   9659\n",
       "STATEN ISLAND  14009   43307    7038   6802   42452   2794"
      ]
     },
     "execution_count": 27,
     "metadata": {},
     "output_type": "execute_result"
    }
   ],
   "source": [
    "tot_borough_jtype"
   ]
  },
  {
   "cell_type": "code",
   "execution_count": 28,
   "metadata": {},
   "outputs": [
    {
     "data": {
      "text/plain": [
       "Text(0.5, 1.05, 'Number of Permits')"
      ]
     },
     "execution_count": 28,
     "metadata": {},
     "output_type": "execute_result"
    },
    {
     "data": {
      "image/png": "[encoded data removed]",
      "text/plain": [
       "<Figure size 1080x360 with 2 Axes>"
      ]
     },
     "metadata": {},
     "output_type": "display_data"
    }
   ],
   "source": [
    "fig = plt.figure(figsize=(15,5))\n",
    "ax = fig.add_subplot(111)\n",
    "cax = ax.matshow(tot_borough_jtype)\n",
    "fig.colorbar(cax)\n",
    "ax.set_xticklabels([' ']+tot_borough_jtype.columns.tolist())\n",
    "ax.set_yticklabels([' ']+tot_borough_jtype.index.tolist())\n",
    "ax.xaxis.set_ticks_position('bottom')\n",
    "ax.set_xlabel('Job Type')\n",
    "ax.set_ylabel('Borough')\n",
    "plt.title('Number of Permits')"
   ]
  },
  {
   "cell_type": "code",
   "execution_count": 29,
   "metadata": {},
   "outputs": [
    {
     "name": "stdout",
     "output_type": "stream",
     "text": [
      "chi_sq_statistic = 361849.3352018677, p_val = 0.0\n"
     ]
    }
   ],
   "source": [
    "chi_sq_statistic, p_val, _, _ = chi2_contingency(tot_borough_jtype)\n",
    "print ('chi_sq_statistic = {}, p_val = {}'.format(chi_sq_statistic, p_val))"
   ]
  },
  {
   "cell_type": "code",
   "execution_count": 30,
   "metadata": {},
   "outputs": [
    {
     "data": {
      "text/plain": [
       "Text(0, 0.5, 'Number of Permits')"
      ]
     },
     "execution_count": 30,
     "metadata": {},
     "output_type": "execute_result"
    },
    {
     "data": {
      "image/png": "[encoded data removed]",
      "text/plain": [
       "<Figure size 432x288 with 1 Axes>"
      ]
     },
     "metadata": {},
     "output_type": "display_data"
    }
   ],
   "source": [
    "resid_tot_borough = pd.concat([resid_borough, tot_borough], axis = 1)\n",
    "resid_tot_borough.columns = ['residential', 'total']\n",
    "resid_tot_borough.plot(kind='bar', style='stacked')\n",
    "plt.title('Residential and Total permits w.r.t boroughs')\n",
    "plt.ylabel('Number of Permits')"
   ]
  },
  {
   "cell_type": "markdown",
   "metadata": {},
   "source": [
    "1-block-away: 1113-1130, 1195-1209, 1823-1846, 1826, 1820, 1594, 1491-1507, 1602-1616, 1374-1393, 1294, 1030, 1011, 1274, 1049, 1028, 1009, 1272, 1029, 1010, 1273 <br>\n",
    "2-blocks-away: 1068, 1131-1150, 1210-1226, 1851-1852, 1855, 1859-1864, 1624-1639, 1508-1524, 1312-1413, 1828-1829, 1822-1823, 1596, 1827, 1821, 1595 <br>\n",
    "3-blocks-away: 1151-1170, 1227-1243, 1868-1881, 1847, 1332, 1414-1433, 1525-1541, 1646-1662 "
   ]
  },
  {
   "cell_type": "markdown",
   "metadata": {},
   "source": [
    "#### How does Central Park (CP) impact the number of permits? How does the trend over years look?"
   ]
  },
  {
   "cell_type": "code",
   "execution_count": 31,
   "metadata": {
    "collapsed": true
   },
   "outputs": [],
   "source": [
    "# Creating list of blocks around central park\n",
    "one_block_away = [np.arange(1113,1131), np.arange(1195,1210), np.arange(1823,1847), \n",
    "                  np.array([1826,1820,1594,1294, 1030, 1011, 1274, 1049, 1028, 1009, 1272, 1029, 1010, 1273]),\n",
    "                  np.arange(1491,1508), np.arange(1602, 1617), np.arange(1374,1394)]\n",
    "one_block_away = np.concatenate(one_block_away).tolist()\n",
    "two_block_away = [np.arange(1131,1151), np.arange(1210,1227), np.arange(1859,1865), np.arange(1624,1640), np.arange(1508,1525),\n",
    "                 np.arange(1312,1414), np.array([1068, 1851,1852,1855,1828,1829,1822,1823,1596,1827,1821,1595])]\n",
    "two_block_away = np.concatenate(two_block_away).tolist()\n",
    "three_block_away = [np.arange(1151,1170), np.arange(1227,1244), np.arange(1868,1882), np.arange(1414,1434), np.arange(1525,1542),\n",
    "                np.arange(1646,1662), np.array([1847,1332])]\n",
    "three_block_away = np.concatenate(three_block_away).tolist()"
   ]
  },
  {
   "cell_type": "code",
   "execution_count": 33,
   "metadata": {
    "collapsed": true
   },
   "outputs": [],
   "source": [
    "total_blocks = np.concatenate([one_block_away, two_block_away, three_block_away]).tolist()"
   ]
  },
  {
   "cell_type": "code",
   "execution_count": 34,
   "metadata": {
    "collapsed": true
   },
   "outputs": [],
   "source": [
    "# data consisting of blocks around central park in Manhattan\n",
    "data_cp = data.loc[(data['Block'].isin(total_blocks))&(data['BOROUGH'] == 'MANHATTAN'),:]"
   ]
  },
  {
   "cell_type": "code",
   "execution_count": 35,
   "metadata": {
    "collapsed": true
   },
   "outputs": [],
   "source": [
    "pd.options.mode.chained_assignment = None"
   ]
  },
  {
   "cell_type": "code",
   "execution_count": 36,
   "metadata": {},
   "outputs": [],
   "source": [
    "# Creating variable describing year when permit was issued\n",
    "data_cp.loc[:,'issue_year'] = data_cp['Issuance Date'].dt.year.values"
   ]
  },
  {
   "cell_type": "code",
   "execution_count": 37,
   "metadata": {},
   "outputs": [],
   "source": [
    "# mapping the distance from central park\n",
    "data_cp['dis_cp'] = data_cp['Block'].apply(map_dis)"
   ]
  },
  {
   "cell_type": "code",
   "execution_count": 38,
   "metadata": {},
   "outputs": [
    {
     "data": {
      "text/plain": [
       "Text(0.5, 1.0, 'Number of Block vs distance from Central Park')"
      ]
     },
     "execution_count": 38,
     "metadata": {},
     "output_type": "execute_result"
    },
    {
     "data": {
      "image/png": "[encoded data removed]",
      "text/plain": [
       "<Figure size 432x288 with 1 Axes>"
      ]
     },
     "metadata": {},
     "output_type": "display_data"
    }
   ],
   "source": [
    "blocks_cp = data_cp[['Block','dis_cp']].drop_duplicates()['dis_cp'].value_counts()\n",
    "blocks_cp.plot(kind = 'bar')\n",
    "plt.xlabel('dis_cp')\n",
    "plt.ylabel('Number of Blocks')\n",
    "plt.title('Number of Block vs distance from Central Park')"
   ]
  },
  {
   "cell_type": "code",
   "execution_count": 39,
   "metadata": {},
   "outputs": [
    {
     "data": {
      "text/plain": [
       "Text(0.5, 1.0, 'Trend of permits over years w.r.t distance from CP')"
      ]
     },
     "execution_count": 39,
     "metadata": {},
     "output_type": "execute_result"
    },
    {
     "data": {
      "image/png": "[encoded data removed]",
      "text/plain": [
       "<Figure size 432x288 with 1 Axes>"
      ]
     },
     "metadata": {},
     "output_type": "display_data"
    }
   ],
   "source": [
    "permits_year_dis = data_cp.groupby(['issue_year','dis_cp']).size().rename('#_permits').reset_index()\n",
    "(permits_year_dis.pivot(index = 'issue_year', values='#_permits',columns='dis_cp')/blocks_cp).plot()\n",
    "plt.xlabel('Year for permit issue')\n",
    "plt.ylabel('Normalized number of permits')\n",
    "plt.title('Trend of permits over years w.r.t distance from CP')"
   ]
  },
  {
   "cell_type": "code",
   "execution_count": 40,
   "metadata": {
    "collapsed": true
   },
   "outputs": [],
   "source": [
    "# data with block around central park with permits for only residential sites\n",
    "data_cp_resid = data_cp.loc[data_cp['Residential'] == 'YES',:]"
   ]
  },
  {
   "cell_type": "code",
   "execution_count": 41,
   "metadata": {
    "collapsed": true
   },
   "outputs": [],
   "source": [
    "with open(r'F:\\Old_Desktop\\UC Davis\\NYC permit data\\data_cp.pkl', 'wb') as file:\n",
    "    pickle.dump(data_cp, file, protocol=pickle.HIGHEST_PROTOCOL)"
   ]
  },
  {
   "cell_type": "code",
   "execution_count": 42,
   "metadata": {
    "collapsed": true
   },
   "outputs": [],
   "source": [
    "# with open(r'F:\\Old_Desktop\\UC Davis\\NYC permit data\\data_cp.pkl', 'rb') as file:\n",
    "#     data_cp = pickle.load(file)"
   ]
  },
  {
   "cell_type": "code",
   "execution_count": 43,
   "metadata": {
    "scrolled": false
   },
   "outputs": [
    {
     "data": {
      "text/plain": [
       "Text(0.5, 1.0, 'Residential permits over years')"
      ]
     },
     "execution_count": 43,
     "metadata": {},
     "output_type": "execute_result"
    },
    {
     "data": {
      "image/png": "[encoded data removed]",
      "text/plain": [
       "<Figure size 432x288 with 1 Axes>"
      ]
     },
     "metadata": {},
     "output_type": "display_data"
    }
   ],
   "source": [
    "permits_year_dis_resid = data_cp_resid.groupby(['issue_year','dis_cp']).size().rename('#_permits').reset_index()\n",
    "(permits_year_dis_resid.pivot(index = 'issue_year', values='#_permits',columns='dis_cp')/blocks_cp).plot()\n",
    "plt.xlabel('year for permit issue')\n",
    "plt.ylabel('Normalized number of residential permits')\n",
    "plt.title('Residential permits over years')"
   ]
  },
  {
   "cell_type": "markdown",
   "metadata": {},
   "source": [
    "### Permits in Manhattan"
   ]
  },
  {
   "cell_type": "code",
   "execution_count": 44,
   "metadata": {
    "collapsed": true
   },
   "outputs": [],
   "source": [
    "data_man = data.loc[(data['BOROUGH'] == 'MANHATTAN'),:]"
   ]
  },
  {
   "cell_type": "code",
   "execution_count": 45,
   "metadata": {
    "collapsed": true
   },
   "outputs": [],
   "source": [
    "# deleting data as no use further\n",
    "del data, data_cp, data_cp_resid"
   ]
  },
  {
   "cell_type": "code",
   "execution_count": 46,
   "metadata": {
    "collapsed": true
   },
   "outputs": [],
   "source": [
    "# Creating issue year variable, removing blocks with null values, converting block and lot type to int\n",
    "data_man.loc[:,'issue_year'] = data_man['Issuance Date'].dt.year.values.copy()\n",
    "data_man = data_man.loc[~data_man['Block'].isnull(),:]\n",
    "data_man[['Block','Lot']] = data_man[['Block','Lot']].apply(lambda x: x.astype('int'))"
   ]
  },
  {
   "cell_type": "markdown",
   "metadata": {},
   "source": [
    "### Relationship between distance from park, permit lags, and other variables on sales value "
   ]
  },
  {
   "cell_type": "code",
   "execution_count": 48,
   "metadata": {
    "collapsed": true
   },
   "outputs": [],
   "source": [
    "# Importing rolling sales data\n",
    "sales = pd.read_excel('F:/Old_Desktop/UC Davis/NYC permit data/rollingsales_manhattan.xls', skiprows=3, header = 1)"
   ]
  },
  {
   "cell_type": "code",
   "execution_count": 49,
   "metadata": {},
   "outputs": [
    {
     "data": {
      "text/plain": [
       "Index(['BOROUGH', 'NEIGHBORHOOD', 'BUILDING CLASS CATEGORY',\n",
       "       'TAX CLASS AT PRESENT', 'BLOCK', 'LOT', 'EASE-MENT',\n",
       "       'BUILDING CLASS AT PRESENT', 'ADDRESS', 'APARTMENT NUMBER', 'ZIP CODE',\n",
       "       'RESIDENTIAL UNITS', 'COMMERCIAL UNITS', 'TOTAL UNITS',\n",
       "       'LAND SQUARE FEET', 'GROSS SQUARE FEET', 'YEAR BUILT',\n",
       "       'TAX CLASS AT TIME OF SALE', 'BUILDING CLASS AT TIME OF SALE',\n",
       "       'SALE PRICE', 'SALE DATE'],\n",
       "      dtype='object')"
      ]
     },
     "execution_count": 49,
     "metadata": {},
     "output_type": "execute_result"
    }
   ],
   "source": [
    "sales.columns"
   ]
  },
  {
   "cell_type": "code",
   "execution_count": 50,
   "metadata": {
    "collapsed": true
   },
   "outputs": [],
   "source": [
    "# Date time type\n",
    "sales['SALE DATE'] = pd.to_datetime(sales['SALE DATE'], format='%Y-%m-%d')"
   ]
  },
  {
   "cell_type": "code",
   "execution_count": 51,
   "metadata": {
    "collapsed": true
   },
   "outputs": [],
   "source": [
    "# binning the year build variable\n",
    "sales['YEAR BUILT'] = pd.cut(sales['YEAR BUILT'], bins = [sales['YEAR BUILT'].min(), 1800, 1850, 1900, 1950, 2000, \n",
    "                                                          sales['YEAR BUILT'].max()])"
   ]
  },
  {
   "cell_type": "code",
   "execution_count": 52,
   "metadata": {
    "collapsed": true
   },
   "outputs": [],
   "source": [
    "# Dropping unimportant variables\n",
    "sales.drop(['BOROUGH','NEIGHBORHOOD','EASE-MENT','ADDRESS','APARTMENT NUMBER','TOTAL UNITS', 'TAX CLASS AT TIME OF SALE',\n",
    "           'BUILDING CLASS AT PRESENT', 'SALE DATE', 'LAND SQUARE FEET'], axis = 1, inplace = True)"
   ]
  },
  {
   "cell_type": "code",
   "execution_count": 53,
   "metadata": {
    "collapsed": true,
    "scrolled": true
   },
   "outputs": [],
   "source": [
    "# max sales for building sold more than once\n",
    "max_sales = sales.groupby(['BLOCK', 'LOT'])['SALE PRICE'].max().rename('max_sales').reset_index()"
   ]
  },
  {
   "cell_type": "code",
   "execution_count": 54,
   "metadata": {
    "collapsed": true
   },
   "outputs": [],
   "source": [
    "sales = sales.merge(max_sales, on = ['BLOCK', 'LOT']).drop('SALE PRICE', axis = 1)\n",
    "sales.rename(mapper = {'BLOCK': 'Block', 'LOT': 'Lot'}, axis = 1, inplace = True)\n",
    "sales.drop_duplicates(inplace = True)"
   ]
  },
  {
   "cell_type": "code",
   "execution_count": 56,
   "metadata": {},
   "outputs": [
    {
     "data": {
      "text/plain": [
       "556"
      ]
     },
     "execution_count": 56,
     "metadata": {},
     "output_type": "execute_result"
    }
   ],
   "source": [
    "# Blocks in manhattan that not in sales data\n",
    "blocks_notin_sales = set(data_man['Block']) - set(sales['Block']) \n",
    "len(blocks_notin_sales)"
   ]
  },
  {
   "cell_type": "code",
   "execution_count": 58,
   "metadata": {
    "collapsed": true
   },
   "outputs": [],
   "source": [
    "with open(r'F:\\Old_Desktop\\UC Davis\\NYC permit data\\sales.pkl', 'wb') as file:\n",
    "    pickle.dump(sales, file, protocol=pickle.HIGHEST_PROTOCOL)"
   ]
  },
  {
   "cell_type": "code",
   "execution_count": 59,
   "metadata": {
    "collapsed": true
   },
   "outputs": [],
   "source": [
    "# with open(r'F:\\Old_Desktop\\UC Davis\\NYC permit data\\sales.pkl', 'rb') as file:\n",
    "#     sales = pickle.load(file)"
   ]
  },
  {
   "cell_type": "code",
   "execution_count": 60,
   "metadata": {},
   "outputs": [],
   "source": [
    "# merging sales data with permit data\n",
    "sales_data_man = data_man.merge(sales, on = ['Block', 'Lot'], how = 'inner')"
   ]
  },
  {
   "cell_type": "code",
   "execution_count": 62,
   "metadata": {},
   "outputs": [
    {
     "data": {
      "text/plain": [
       "(3160, 2)"
      ]
     },
     "execution_count": 62,
     "metadata": {},
     "output_type": "execute_result"
    }
   ],
   "source": [
    "sales_data_man[['Block','Lot']].drop_duplicates().shape"
   ]
  },
  {
   "cell_type": "code",
   "execution_count": 63,
   "metadata": {
    "collapsed": true
   },
   "outputs": [],
   "source": [
    "# binning issue year variable \n",
    "sales_data_man['issue_year'] = pd.cut(sales_data_man['issue_year'], bins=[2003,2008,2012,2016,2019], \n",
    "                                     labels = ['2004-2008', '2009-2012', '2013-2016', '2017-2019'])"
   ]
  },
  {
   "cell_type": "markdown",
   "metadata": {},
   "source": [
    "### Create number of permits for past years grouped by 1) block and lot 2) Census Tract 3) Zip Code"
   ]
  },
  {
   "cell_type": "code",
   "execution_count": 64,
   "metadata": {
    "collapsed": true
   },
   "outputs": [],
   "source": [
    "permits_bl = pd.pivot_table(sales_data_man, index = ['Block', 'Lot'], columns='issue_year', aggfunc='count', values='max_sales', \n",
    "               fill_value=0)"
   ]
  },
  {
   "cell_type": "code",
   "execution_count": 65,
   "metadata": {},
   "outputs": [
    {
     "data": {
      "text/html": [
       "<div>\n",
       "<style scoped>\n",
       "    .dataframe tbody tr th:only-of-type {\n",
       "        vertical-align: middle;\n",
       "    }\n",
       "\n",
       "    .dataframe tbody tr th {\n",
       "        vertical-align: top;\n",
       "    }\n",
       "\n",
       "    .dataframe thead th {\n",
       "        text-align: right;\n",
       "    }\n",
       "</style>\n",
       "<table border=\"1\" class=\"dataframe\">\n",
       "  <thead>\n",
       "    <tr style=\"text-align: right;\">\n",
       "      <th>issue_year</th>\n",
       "      <th>Block</th>\n",
       "      <th>Lot</th>\n",
       "      <th>2004-2008</th>\n",
       "      <th>2009-2012</th>\n",
       "      <th>2013-2016</th>\n",
       "      <th>2017-2019</th>\n",
       "    </tr>\n",
       "  </thead>\n",
       "  <tbody>\n",
       "    <tr>\n",
       "      <th>0</th>\n",
       "      <td>2</td>\n",
       "      <td>2</td>\n",
       "      <td>0</td>\n",
       "      <td>1</td>\n",
       "      <td>22</td>\n",
       "      <td>3</td>\n",
       "    </tr>\n",
       "    <tr>\n",
       "      <th>1</th>\n",
       "      <td>8</td>\n",
       "      <td>39</td>\n",
       "      <td>8</td>\n",
       "      <td>32</td>\n",
       "      <td>11</td>\n",
       "      <td>1</td>\n",
       "    </tr>\n",
       "    <tr>\n",
       "      <th>2</th>\n",
       "      <td>11</td>\n",
       "      <td>14</td>\n",
       "      <td>15</td>\n",
       "      <td>17</td>\n",
       "      <td>18</td>\n",
       "      <td>0</td>\n",
       "    </tr>\n",
       "    <tr>\n",
       "      <th>3</th>\n",
       "      <td>11</td>\n",
       "      <td>17</td>\n",
       "      <td>0</td>\n",
       "      <td>6</td>\n",
       "      <td>3</td>\n",
       "      <td>4</td>\n",
       "    </tr>\n",
       "    <tr>\n",
       "      <th>4</th>\n",
       "      <td>13</td>\n",
       "      <td>1</td>\n",
       "      <td>8</td>\n",
       "      <td>14</td>\n",
       "      <td>32</td>\n",
       "      <td>8</td>\n",
       "    </tr>\n",
       "  </tbody>\n",
       "</table>\n",
       "</div>"
      ],
      "text/plain": [
       "issue_year  Block  Lot  2004-2008  2009-2012  2013-2016  2017-2019\n",
       "0               2    2          0          1         22          3\n",
       "1               8   39          8         32         11          1\n",
       "2              11   14         15         17         18          0\n",
       "3              11   17          0          6          3          4\n",
       "4              13    1          8         14         32          8"
      ]
     },
     "execution_count": 65,
     "metadata": {},
     "output_type": "execute_result"
    }
   ],
   "source": [
    "permits_bl.columns = permits_bl.columns.astype('str')\n",
    "permits_bl.reset_index(inplace=True)\n",
    "permits_bl.head()"
   ]
  },
  {
   "cell_type": "code",
   "execution_count": 75,
   "metadata": {
    "collapsed": true
   },
   "outputs": [],
   "source": [
    "block_lot_man = sales_data_man[['Block', 'Lot', 'CENSUS_TRACT']].drop_duplicates()"
   ]
  },
  {
   "cell_type": "code",
   "execution_count": 76,
   "metadata": {},
   "outputs": [],
   "source": [
    "permits_bl = permits_bl.merge(block_lot_man, on = ['Block', 'Lot'])"
   ]
  },
  {
   "cell_type": "code",
   "execution_count": 78,
   "metadata": {
    "collapsed": true
   },
   "outputs": [],
   "source": [
    "permits_ct = pd.pivot_table(sales_data_man, index = ['CENSUS_TRACT'], columns='issue_year', aggfunc='count', values='max_sales', \n",
    "               fill_value=0)"
   ]
  },
  {
   "cell_type": "code",
   "execution_count": 79,
   "metadata": {},
   "outputs": [
    {
     "data": {
      "text/html": [
       "<div>\n",
       "<style scoped>\n",
       "    .dataframe tbody tr th:only-of-type {\n",
       "        vertical-align: middle;\n",
       "    }\n",
       "\n",
       "    .dataframe tbody tr th {\n",
       "        vertical-align: top;\n",
       "    }\n",
       "\n",
       "    .dataframe thead th {\n",
       "        text-align: right;\n",
       "    }\n",
       "</style>\n",
       "<table border=\"1\" class=\"dataframe\">\n",
       "  <thead>\n",
       "    <tr style=\"text-align: right;\">\n",
       "      <th>issue_year</th>\n",
       "      <th>CENSUS_TRACT</th>\n",
       "      <th>2004-2008</th>\n",
       "      <th>2009-2012</th>\n",
       "      <th>2013-2016</th>\n",
       "      <th>2017-2019</th>\n",
       "    </tr>\n",
       "  </thead>\n",
       "  <tbody>\n",
       "    <tr>\n",
       "      <th>247</th>\n",
       "      <td>22302.0</td>\n",
       "      <td>6</td>\n",
       "      <td>4</td>\n",
       "      <td>4</td>\n",
       "      <td>4</td>\n",
       "    </tr>\n",
       "    <tr>\n",
       "      <th>248</th>\n",
       "      <td>23501.0</td>\n",
       "      <td>24</td>\n",
       "      <td>20</td>\n",
       "      <td>16</td>\n",
       "      <td>13</td>\n",
       "    </tr>\n",
       "    <tr>\n",
       "      <th>249</th>\n",
       "      <td>23502.0</td>\n",
       "      <td>10</td>\n",
       "      <td>2</td>\n",
       "      <td>18</td>\n",
       "      <td>3</td>\n",
       "    </tr>\n",
       "    <tr>\n",
       "      <th>250</th>\n",
       "      <td>23801.0</td>\n",
       "      <td>0</td>\n",
       "      <td>6</td>\n",
       "      <td>37</td>\n",
       "      <td>13</td>\n",
       "    </tr>\n",
       "    <tr>\n",
       "      <th>251</th>\n",
       "      <td>24301.0</td>\n",
       "      <td>13</td>\n",
       "      <td>8</td>\n",
       "      <td>9</td>\n",
       "      <td>9</td>\n",
       "    </tr>\n",
       "  </tbody>\n",
       "</table>\n",
       "</div>"
      ],
      "text/plain": [
       "issue_year  CENSUS_TRACT  2004-2008  2009-2012  2013-2016  2017-2019\n",
       "247              22302.0          6          4          4          4\n",
       "248              23501.0         24         20         16         13\n",
       "249              23502.0         10          2         18          3\n",
       "250              23801.0          0          6         37         13\n",
       "251              24301.0         13          8          9          9"
      ]
     },
     "execution_count": 79,
     "metadata": {},
     "output_type": "execute_result"
    }
   ],
   "source": [
    "permits_ct.columns = permits_ct.columns.astype('str')\n",
    "permits_ct.reset_index(inplace=True)\n",
    "permits_ct.tail()"
   ]
  },
  {
   "cell_type": "code",
   "execution_count": 80,
   "metadata": {
    "collapsed": true
   },
   "outputs": [],
   "source": [
    "permits_zc = pd.pivot_table(sales_data_man, index = ['Zip Code'], columns='issue_year', aggfunc='count', values='max_sales', \n",
    "               fill_value=0)"
   ]
  },
  {
   "cell_type": "code",
   "execution_count": 81,
   "metadata": {},
   "outputs": [
    {
     "data": {
      "text/html": [
       "<div>\n",
       "<style scoped>\n",
       "    .dataframe tbody tr th:only-of-type {\n",
       "        vertical-align: middle;\n",
       "    }\n",
       "\n",
       "    .dataframe tbody tr th {\n",
       "        vertical-align: top;\n",
       "    }\n",
       "\n",
       "    .dataframe thead th {\n",
       "        text-align: right;\n",
       "    }\n",
       "</style>\n",
       "<table border=\"1\" class=\"dataframe\">\n",
       "  <thead>\n",
       "    <tr style=\"text-align: right;\">\n",
       "      <th></th>\n",
       "      <th>Zip Code</th>\n",
       "      <th>2004-2008_#_permits_zc</th>\n",
       "      <th>2009-2012_#_permits_zc</th>\n",
       "      <th>2013-2016_#_permits_zc</th>\n",
       "      <th>2017-2019_#_permits_zc</th>\n",
       "    </tr>\n",
       "  </thead>\n",
       "  <tbody>\n",
       "    <tr>\n",
       "      <th>39</th>\n",
       "      <td>10069.0</td>\n",
       "      <td>3</td>\n",
       "      <td>20</td>\n",
       "      <td>25</td>\n",
       "      <td>17</td>\n",
       "    </tr>\n",
       "    <tr>\n",
       "      <th>40</th>\n",
       "      <td>10075.0</td>\n",
       "      <td>1517</td>\n",
       "      <td>1187</td>\n",
       "      <td>1772</td>\n",
       "      <td>800</td>\n",
       "    </tr>\n",
       "    <tr>\n",
       "      <th>41</th>\n",
       "      <td>10105.0</td>\n",
       "      <td>7</td>\n",
       "      <td>10</td>\n",
       "      <td>7</td>\n",
       "      <td>10</td>\n",
       "    </tr>\n",
       "    <tr>\n",
       "      <th>42</th>\n",
       "      <td>10128.0</td>\n",
       "      <td>2311</td>\n",
       "      <td>2258</td>\n",
       "      <td>2742</td>\n",
       "      <td>1357</td>\n",
       "    </tr>\n",
       "    <tr>\n",
       "      <th>43</th>\n",
       "      <td>10463.0</td>\n",
       "      <td>0</td>\n",
       "      <td>0</td>\n",
       "      <td>0</td>\n",
       "      <td>2</td>\n",
       "    </tr>\n",
       "  </tbody>\n",
       "</table>\n",
       "</div>"
      ],
      "text/plain": [
       "    Zip Code  2004-2008_#_permits_zc  2009-2012_#_permits_zc  \\\n",
       "39   10069.0                       3                      20   \n",
       "40   10075.0                    1517                    1187   \n",
       "41   10105.0                       7                      10   \n",
       "42   10128.0                    2311                    2258   \n",
       "43   10463.0                       0                       0   \n",
       "\n",
       "    2013-2016_#_permits_zc  2017-2019_#_permits_zc  \n",
       "39                      25                      17  \n",
       "40                    1772                     800  \n",
       "41                       7                      10  \n",
       "42                    2742                    1357  \n",
       "43                       0                       2  "
      ]
     },
     "execution_count": 81,
     "metadata": {},
     "output_type": "execute_result"
    }
   ],
   "source": [
    "permits_zc.columns = permits_zc.columns.astype('str')\n",
    "permits_zc.columns = ['2004-2008_#_permits_zc', '2009-2012_#_permits_zc', '2013-2016_#_permits_zc', '2017-2019_#_permits_zc']\n",
    "permits_zc.reset_index(inplace=True)\n",
    "permits_zc.tail()"
   ]
  },
  {
   "cell_type": "code",
   "execution_count": 82,
   "metadata": {
    "collapsed": true
   },
   "outputs": [],
   "source": [
    "block_lot_zc = sales_data_man[['Block', 'Lot', 'Zip Code']].drop_duplicates()"
   ]
  },
  {
   "cell_type": "code",
   "execution_count": 83,
   "metadata": {
    "collapsed": true
   },
   "outputs": [],
   "source": [
    "permits_zc = permits_zc.merge(block_lot_zc, on = ['Zip Code'])"
   ]
  },
  {
   "cell_type": "code",
   "execution_count": 85,
   "metadata": {},
   "outputs": [],
   "source": [
    "permits_lag = permits_bl.merge(permits_ct, on = ['CENSUS_TRACT'], suffixes=['_#_permits_bl','_#_permits_ct'])"
   ]
  },
  {
   "cell_type": "code",
   "execution_count": 86,
   "metadata": {
    "collapsed": true,
    "scrolled": true
   },
   "outputs": [],
   "source": [
    "permits_lag = permits_lag.merge(permits_zc, on = ['Block', 'Lot'], suffixes=['','_#_permits_zc'])"
   ]
  },
  {
   "cell_type": "code",
   "execution_count": 87,
   "metadata": {},
   "outputs": [
    {
     "data": {
      "text/plain": [
       "(3168, 16)"
      ]
     },
     "execution_count": 87,
     "metadata": {},
     "output_type": "execute_result"
    }
   ],
   "source": [
    "permits_lag.shape"
   ]
  },
  {
   "cell_type": "code",
   "execution_count": 90,
   "metadata": {},
   "outputs": [
    {
     "data": {
      "text/html": [
       "<div>\n",
       "<style scoped>\n",
       "    .dataframe tbody tr th:only-of-type {\n",
       "        vertical-align: middle;\n",
       "    }\n",
       "\n",
       "    .dataframe tbody tr th {\n",
       "        vertical-align: top;\n",
       "    }\n",
       "\n",
       "    .dataframe thead th {\n",
       "        text-align: right;\n",
       "    }\n",
       "</style>\n",
       "<table border=\"1\" class=\"dataframe\">\n",
       "  <thead>\n",
       "    <tr style=\"text-align: right;\">\n",
       "      <th></th>\n",
       "      <th>2004-2008_#_permits_bl</th>\n",
       "      <th>2009-2012_#_permits_bl</th>\n",
       "      <th>2013-2016_#_permits_bl</th>\n",
       "      <th>2017-2019_#_permits_bl</th>\n",
       "      <th>CENSUS_TRACT</th>\n",
       "      <th>2004-2008_#_permits_ct</th>\n",
       "      <th>2009-2012_#_permits_ct</th>\n",
       "      <th>2013-2016_#_permits_ct</th>\n",
       "      <th>2017-2019_#_permits_ct</th>\n",
       "      <th>Zip Code</th>\n",
       "      <th>2004-2008_#_permits_zc</th>\n",
       "      <th>2009-2012_#_permits_zc</th>\n",
       "      <th>2013-2016_#_permits_zc</th>\n",
       "      <th>2017-2019_#_permits_zc</th>\n",
       "    </tr>\n",
       "  </thead>\n",
       "  <tbody>\n",
       "    <tr>\n",
       "      <th>2004-2008_#_permits_bl</th>\n",
       "      <td>1.000000</td>\n",
       "      <td>0.810840</td>\n",
       "      <td>0.761430</td>\n",
       "      <td>0.660222</td>\n",
       "      <td>0.039812</td>\n",
       "      <td>0.328692</td>\n",
       "      <td>0.317638</td>\n",
       "      <td>0.322717</td>\n",
       "      <td>0.306686</td>\n",
       "      <td>0.045762</td>\n",
       "      <td>0.246076</td>\n",
       "      <td>0.239579</td>\n",
       "      <td>0.246551</td>\n",
       "      <td>0.228658</td>\n",
       "    </tr>\n",
       "    <tr>\n",
       "      <th>2009-2012_#_permits_bl</th>\n",
       "      <td>0.810840</td>\n",
       "      <td>1.000000</td>\n",
       "      <td>0.788749</td>\n",
       "      <td>0.689594</td>\n",
       "      <td>0.033198</td>\n",
       "      <td>0.297849</td>\n",
       "      <td>0.318670</td>\n",
       "      <td>0.307400</td>\n",
       "      <td>0.291485</td>\n",
       "      <td>0.031459</td>\n",
       "      <td>0.219147</td>\n",
       "      <td>0.223926</td>\n",
       "      <td>0.226488</td>\n",
       "      <td>0.212573</td>\n",
       "    </tr>\n",
       "    <tr>\n",
       "      <th>2013-2016_#_permits_bl</th>\n",
       "      <td>0.761430</td>\n",
       "      <td>0.788749</td>\n",
       "      <td>1.000000</td>\n",
       "      <td>0.805374</td>\n",
       "      <td>0.038118</td>\n",
       "      <td>0.269567</td>\n",
       "      <td>0.274214</td>\n",
       "      <td>0.302339</td>\n",
       "      <td>0.281784</td>\n",
       "      <td>0.024276</td>\n",
       "      <td>0.208715</td>\n",
       "      <td>0.209271</td>\n",
       "      <td>0.221899</td>\n",
       "      <td>0.205197</td>\n",
       "    </tr>\n",
       "    <tr>\n",
       "      <th>2017-2019_#_permits_bl</th>\n",
       "      <td>0.660222</td>\n",
       "      <td>0.689594</td>\n",
       "      <td>0.805374</td>\n",
       "      <td>1.000000</td>\n",
       "      <td>0.012511</td>\n",
       "      <td>0.227432</td>\n",
       "      <td>0.231439</td>\n",
       "      <td>0.252892</td>\n",
       "      <td>0.268810</td>\n",
       "      <td>0.013673</td>\n",
       "      <td>0.175447</td>\n",
       "      <td>0.178630</td>\n",
       "      <td>0.187416</td>\n",
       "      <td>0.179248</td>\n",
       "    </tr>\n",
       "    <tr>\n",
       "      <th>CENSUS_TRACT</th>\n",
       "      <td>0.039812</td>\n",
       "      <td>0.033198</td>\n",
       "      <td>0.038118</td>\n",
       "      <td>0.012511</td>\n",
       "      <td>1.000000</td>\n",
       "      <td>0.017338</td>\n",
       "      <td>0.040622</td>\n",
       "      <td>0.031297</td>\n",
       "      <td>-0.016346</td>\n",
       "      <td>0.422313</td>\n",
       "      <td>0.083180</td>\n",
       "      <td>0.082632</td>\n",
       "      <td>0.068588</td>\n",
       "      <td>0.034745</td>\n",
       "    </tr>\n",
       "    <tr>\n",
       "      <th>2004-2008_#_permits_ct</th>\n",
       "      <td>0.328692</td>\n",
       "      <td>0.297849</td>\n",
       "      <td>0.269567</td>\n",
       "      <td>0.227432</td>\n",
       "      <td>0.017338</td>\n",
       "      <td>1.000000</td>\n",
       "      <td>0.973691</td>\n",
       "      <td>0.968230</td>\n",
       "      <td>0.943920</td>\n",
       "      <td>0.190939</td>\n",
       "      <td>0.666972</td>\n",
       "      <td>0.650617</td>\n",
       "      <td>0.655791</td>\n",
       "      <td>0.622632</td>\n",
       "    </tr>\n",
       "    <tr>\n",
       "      <th>2009-2012_#_permits_ct</th>\n",
       "      <td>0.317638</td>\n",
       "      <td>0.318670</td>\n",
       "      <td>0.274214</td>\n",
       "      <td>0.231439</td>\n",
       "      <td>0.040622</td>\n",
       "      <td>0.973691</td>\n",
       "      <td>1.000000</td>\n",
       "      <td>0.966712</td>\n",
       "      <td>0.937143</td>\n",
       "      <td>0.187772</td>\n",
       "      <td>0.648648</td>\n",
       "      <td>0.647845</td>\n",
       "      <td>0.646519</td>\n",
       "      <td>0.617830</td>\n",
       "    </tr>\n",
       "    <tr>\n",
       "      <th>2013-2016_#_permits_ct</th>\n",
       "      <td>0.322717</td>\n",
       "      <td>0.307400</td>\n",
       "      <td>0.302339</td>\n",
       "      <td>0.252892</td>\n",
       "      <td>0.031297</td>\n",
       "      <td>0.968230</td>\n",
       "      <td>0.966712</td>\n",
       "      <td>1.000000</td>\n",
       "      <td>0.965536</td>\n",
       "      <td>0.189766</td>\n",
       "      <td>0.670995</td>\n",
       "      <td>0.662315</td>\n",
       "      <td>0.677329</td>\n",
       "      <td>0.641908</td>\n",
       "    </tr>\n",
       "    <tr>\n",
       "      <th>2017-2019_#_permits_ct</th>\n",
       "      <td>0.306686</td>\n",
       "      <td>0.291485</td>\n",
       "      <td>0.281784</td>\n",
       "      <td>0.268810</td>\n",
       "      <td>-0.016346</td>\n",
       "      <td>0.943920</td>\n",
       "      <td>0.937143</td>\n",
       "      <td>0.965536</td>\n",
       "      <td>1.000000</td>\n",
       "      <td>0.159006</td>\n",
       "      <td>0.670279</td>\n",
       "      <td>0.666250</td>\n",
       "      <td>0.676173</td>\n",
       "      <td>0.654605</td>\n",
       "    </tr>\n",
       "    <tr>\n",
       "      <th>Zip Code</th>\n",
       "      <td>0.045762</td>\n",
       "      <td>0.031459</td>\n",
       "      <td>0.024276</td>\n",
       "      <td>0.013673</td>\n",
       "      <td>0.422313</td>\n",
       "      <td>0.190939</td>\n",
       "      <td>0.187772</td>\n",
       "      <td>0.189766</td>\n",
       "      <td>0.159006</td>\n",
       "      <td>1.000000</td>\n",
       "      <td>0.176411</td>\n",
       "      <td>0.160150</td>\n",
       "      <td>0.151639</td>\n",
       "      <td>0.117620</td>\n",
       "    </tr>\n",
       "    <tr>\n",
       "      <th>2004-2008_#_permits_zc</th>\n",
       "      <td>0.246076</td>\n",
       "      <td>0.219147</td>\n",
       "      <td>0.208715</td>\n",
       "      <td>0.175447</td>\n",
       "      <td>0.083180</td>\n",
       "      <td>0.666972</td>\n",
       "      <td>0.648648</td>\n",
       "      <td>0.670995</td>\n",
       "      <td>0.670279</td>\n",
       "      <td>0.176411</td>\n",
       "      <td>1.000000</td>\n",
       "      <td>0.987522</td>\n",
       "      <td>0.985840</td>\n",
       "      <td>0.975864</td>\n",
       "    </tr>\n",
       "    <tr>\n",
       "      <th>2009-2012_#_permits_zc</th>\n",
       "      <td>0.239579</td>\n",
       "      <td>0.223926</td>\n",
       "      <td>0.209271</td>\n",
       "      <td>0.178630</td>\n",
       "      <td>0.082632</td>\n",
       "      <td>0.650617</td>\n",
       "      <td>0.647845</td>\n",
       "      <td>0.662315</td>\n",
       "      <td>0.666250</td>\n",
       "      <td>0.160150</td>\n",
       "      <td>0.987522</td>\n",
       "      <td>1.000000</td>\n",
       "      <td>0.988016</td>\n",
       "      <td>0.984992</td>\n",
       "    </tr>\n",
       "    <tr>\n",
       "      <th>2013-2016_#_permits_zc</th>\n",
       "      <td>0.246551</td>\n",
       "      <td>0.226488</td>\n",
       "      <td>0.221899</td>\n",
       "      <td>0.187416</td>\n",
       "      <td>0.068588</td>\n",
       "      <td>0.655791</td>\n",
       "      <td>0.646519</td>\n",
       "      <td>0.677329</td>\n",
       "      <td>0.676173</td>\n",
       "      <td>0.151639</td>\n",
       "      <td>0.985840</td>\n",
       "      <td>0.988016</td>\n",
       "      <td>1.000000</td>\n",
       "      <td>0.988207</td>\n",
       "    </tr>\n",
       "    <tr>\n",
       "      <th>2017-2019_#_permits_zc</th>\n",
       "      <td>0.228658</td>\n",
       "      <td>0.212573</td>\n",
       "      <td>0.205197</td>\n",
       "      <td>0.179248</td>\n",
       "      <td>0.034745</td>\n",
       "      <td>0.622632</td>\n",
       "      <td>0.617830</td>\n",
       "      <td>0.641908</td>\n",
       "      <td>0.654605</td>\n",
       "      <td>0.117620</td>\n",
       "      <td>0.975864</td>\n",
       "      <td>0.984992</td>\n",
       "      <td>0.988207</td>\n",
       "      <td>1.000000</td>\n",
       "    </tr>\n",
       "  </tbody>\n",
       "</table>\n",
       "</div>"
      ],
      "text/plain": [
       "                        2004-2008_#_permits_bl  2009-2012_#_permits_bl  \\\n",
       "2004-2008_#_permits_bl                1.000000                0.810840   \n",
       "2009-2012_#_permits_bl                0.810840                1.000000   \n",
       "2013-2016_#_permits_bl                0.761430                0.788749   \n",
       "2017-2019_#_permits_bl                0.660222                0.689594   \n",
       "CENSUS_TRACT                          0.039812                0.033198   \n",
       "2004-2008_#_permits_ct                0.328692                0.297849   \n",
       "2009-2012_#_permits_ct                0.317638                0.318670   \n",
       "2013-2016_#_permits_ct                0.322717                0.307400   \n",
       "2017-2019_#_permits_ct                0.306686                0.291485   \n",
       "Zip Code                              0.045762                0.031459   \n",
       "2004-2008_#_permits_zc                0.246076                0.219147   \n",
       "2009-2012_#_permits_zc                0.239579                0.223926   \n",
       "2013-2016_#_permits_zc                0.246551                0.226488   \n",
       "2017-2019_#_permits_zc                0.228658                0.212573   \n",
       "\n",
       "                        2013-2016_#_permits_bl  2017-2019_#_permits_bl  \\\n",
       "2004-2008_#_permits_bl                0.761430                0.660222   \n",
       "2009-2012_#_permits_bl                0.788749                0.689594   \n",
       "2013-2016_#_permits_bl                1.000000                0.805374   \n",
       "2017-2019_#_permits_bl                0.805374                1.000000   \n",
       "CENSUS_TRACT                          0.038118                0.012511   \n",
       "2004-2008_#_permits_ct                0.269567                0.227432   \n",
       "2009-2012_#_permits_ct                0.274214                0.231439   \n",
       "2013-2016_#_permits_ct                0.302339                0.252892   \n",
       "2017-2019_#_permits_ct                0.281784                0.268810   \n",
       "Zip Code                              0.024276                0.013673   \n",
       "2004-2008_#_permits_zc                0.208715                0.175447   \n",
       "2009-2012_#_permits_zc                0.209271                0.178630   \n",
       "2013-2016_#_permits_zc                0.221899                0.187416   \n",
       "2017-2019_#_permits_zc                0.205197                0.179248   \n",
       "\n",
       "                        CENSUS_TRACT  2004-2008_#_permits_ct  \\\n",
       "2004-2008_#_permits_bl      0.039812                0.328692   \n",
       "2009-2012_#_permits_bl      0.033198                0.297849   \n",
       "2013-2016_#_permits_bl      0.038118                0.269567   \n",
       "2017-2019_#_permits_bl      0.012511                0.227432   \n",
       "CENSUS_TRACT                1.000000                0.017338   \n",
       "2004-2008_#_permits_ct      0.017338                1.000000   \n",
       "2009-2012_#_permits_ct      0.040622                0.973691   \n",
       "2013-2016_#_permits_ct      0.031297                0.968230   \n",
       "2017-2019_#_permits_ct     -0.016346                0.943920   \n",
       "Zip Code                    0.422313                0.190939   \n",
       "2004-2008_#_permits_zc      0.083180                0.666972   \n",
       "2009-2012_#_permits_zc      0.082632                0.650617   \n",
       "2013-2016_#_permits_zc      0.068588                0.655791   \n",
       "2017-2019_#_permits_zc      0.034745                0.622632   \n",
       "\n",
       "                        2009-2012_#_permits_ct  2013-2016_#_permits_ct  \\\n",
       "2004-2008_#_permits_bl                0.317638                0.322717   \n",
       "2009-2012_#_permits_bl                0.318670                0.307400   \n",
       "2013-2016_#_permits_bl                0.274214                0.302339   \n",
       "2017-2019_#_permits_bl                0.231439                0.252892   \n",
       "CENSUS_TRACT                          0.040622                0.031297   \n",
       "2004-2008_#_permits_ct                0.973691                0.968230   \n",
       "2009-2012_#_permits_ct                1.000000                0.966712   \n",
       "2013-2016_#_permits_ct                0.966712                1.000000   \n",
       "2017-2019_#_permits_ct                0.937143                0.965536   \n",
       "Zip Code                              0.187772                0.189766   \n",
       "2004-2008_#_permits_zc                0.648648                0.670995   \n",
       "2009-2012_#_permits_zc                0.647845                0.662315   \n",
       "2013-2016_#_permits_zc                0.646519                0.677329   \n",
       "2017-2019_#_permits_zc                0.617830                0.641908   \n",
       "\n",
       "                        2017-2019_#_permits_ct  Zip Code  \\\n",
       "2004-2008_#_permits_bl                0.306686  0.045762   \n",
       "2009-2012_#_permits_bl                0.291485  0.031459   \n",
       "2013-2016_#_permits_bl                0.281784  0.024276   \n",
       "2017-2019_#_permits_bl                0.268810  0.013673   \n",
       "CENSUS_TRACT                         -0.016346  0.422313   \n",
       "2004-2008_#_permits_ct                0.943920  0.190939   \n",
       "2009-2012_#_permits_ct                0.937143  0.187772   \n",
       "2013-2016_#_permits_ct                0.965536  0.189766   \n",
       "2017-2019_#_permits_ct                1.000000  0.159006   \n",
       "Zip Code                              0.159006  1.000000   \n",
       "2004-2008_#_permits_zc                0.670279  0.176411   \n",
       "2009-2012_#_permits_zc                0.666250  0.160150   \n",
       "2013-2016_#_permits_zc                0.676173  0.151639   \n",
       "2017-2019_#_permits_zc                0.654605  0.117620   \n",
       "\n",
       "                        2004-2008_#_permits_zc  2009-2012_#_permits_zc  \\\n",
       "2004-2008_#_permits_bl                0.246076                0.239579   \n",
       "2009-2012_#_permits_bl                0.219147                0.223926   \n",
       "2013-2016_#_permits_bl                0.208715                0.209271   \n",
       "2017-2019_#_permits_bl                0.175447                0.178630   \n",
       "CENSUS_TRACT                          0.083180                0.082632   \n",
       "2004-2008_#_permits_ct                0.666972                0.650617   \n",
       "2009-2012_#_permits_ct                0.648648                0.647845   \n",
       "2013-2016_#_permits_ct                0.670995                0.662315   \n",
       "2017-2019_#_permits_ct                0.670279                0.666250   \n",
       "Zip Code                              0.176411                0.160150   \n",
       "2004-2008_#_permits_zc                1.000000                0.987522   \n",
       "2009-2012_#_permits_zc                0.987522                1.000000   \n",
       "2013-2016_#_permits_zc                0.985840                0.988016   \n",
       "2017-2019_#_permits_zc                0.975864                0.984992   \n",
       "\n",
       "                        2013-2016_#_permits_zc  2017-2019_#_permits_zc  \n",
       "2004-2008_#_permits_bl                0.246551                0.228658  \n",
       "2009-2012_#_permits_bl                0.226488                0.212573  \n",
       "2013-2016_#_permits_bl                0.221899                0.205197  \n",
       "2017-2019_#_permits_bl                0.187416                0.179248  \n",
       "CENSUS_TRACT                          0.068588                0.034745  \n",
       "2004-2008_#_permits_ct                0.655791                0.622632  \n",
       "2009-2012_#_permits_ct                0.646519                0.617830  \n",
       "2013-2016_#_permits_ct                0.677329                0.641908  \n",
       "2017-2019_#_permits_ct                0.676173                0.654605  \n",
       "Zip Code                              0.151639                0.117620  \n",
       "2004-2008_#_permits_zc                0.985840                0.975864  \n",
       "2009-2012_#_permits_zc                0.988016                0.984992  \n",
       "2013-2016_#_permits_zc                1.000000                0.988207  \n",
       "2017-2019_#_permits_zc                0.988207                1.000000  "
      ]
     },
     "execution_count": 90,
     "metadata": {},
     "output_type": "execute_result"
    }
   ],
   "source": [
    "permits_lag.drop(['Block', 'Lot'], axis = 1).corr()"
   ]
  },
  {
   "cell_type": "code",
   "execution_count": 91,
   "metadata": {
    "collapsed": true
   },
   "outputs": [],
   "source": [
    "permits_lag.drop(['2004-2008_#_permits_ct', '2009-2012_#_permits_ct',\n",
    "                 '2004-2008_#_permits_zc', '2009-2012_#_permits_zc'], axis = 1, inplace = True)"
   ]
  },
  {
   "cell_type": "code",
   "execution_count": 92,
   "metadata": {},
   "outputs": [
    {
     "data": {
      "text/html": [
       "<div>\n",
       "<style scoped>\n",
       "    .dataframe tbody tr th:only-of-type {\n",
       "        vertical-align: middle;\n",
       "    }\n",
       "\n",
       "    .dataframe tbody tr th {\n",
       "        vertical-align: top;\n",
       "    }\n",
       "\n",
       "    .dataframe thead th {\n",
       "        text-align: right;\n",
       "    }\n",
       "</style>\n",
       "<table border=\"1\" class=\"dataframe\">\n",
       "  <thead>\n",
       "    <tr style=\"text-align: right;\">\n",
       "      <th></th>\n",
       "      <th>Block</th>\n",
       "      <th>Lot</th>\n",
       "      <th>2004-2008_#_permits_bl</th>\n",
       "      <th>2009-2012_#_permits_bl</th>\n",
       "      <th>2013-2016_#_permits_bl</th>\n",
       "      <th>2017-2019_#_permits_bl</th>\n",
       "      <th>CENSUS_TRACT</th>\n",
       "      <th>2013-2016_#_permits_ct</th>\n",
       "      <th>2017-2019_#_permits_ct</th>\n",
       "      <th>Zip Code</th>\n",
       "      <th>2013-2016_#_permits_zc</th>\n",
       "      <th>2017-2019_#_permits_zc</th>\n",
       "    </tr>\n",
       "  </thead>\n",
       "  <tbody>\n",
       "    <tr>\n",
       "      <th>3163</th>\n",
       "      <td>2250</td>\n",
       "      <td>54</td>\n",
       "      <td>6</td>\n",
       "      <td>2</td>\n",
       "      <td>0</td>\n",
       "      <td>9</td>\n",
       "      <td>307.0</td>\n",
       "      <td>51</td>\n",
       "      <td>37</td>\n",
       "      <td>10034.0</td>\n",
       "      <td>132</td>\n",
       "      <td>101</td>\n",
       "    </tr>\n",
       "    <tr>\n",
       "      <th>3164</th>\n",
       "      <td>2250</td>\n",
       "      <td>72</td>\n",
       "      <td>0</td>\n",
       "      <td>0</td>\n",
       "      <td>1</td>\n",
       "      <td>3</td>\n",
       "      <td>307.0</td>\n",
       "      <td>51</td>\n",
       "      <td>37</td>\n",
       "      <td>10034.0</td>\n",
       "      <td>132</td>\n",
       "      <td>101</td>\n",
       "    </tr>\n",
       "    <tr>\n",
       "      <th>3165</th>\n",
       "      <td>2243</td>\n",
       "      <td>347</td>\n",
       "      <td>5</td>\n",
       "      <td>6</td>\n",
       "      <td>3</td>\n",
       "      <td>6</td>\n",
       "      <td>303.0</td>\n",
       "      <td>3</td>\n",
       "      <td>11</td>\n",
       "      <td>10034.0</td>\n",
       "      <td>132</td>\n",
       "      <td>101</td>\n",
       "    </tr>\n",
       "    <tr>\n",
       "      <th>3166</th>\n",
       "      <td>2243</td>\n",
       "      <td>354</td>\n",
       "      <td>3</td>\n",
       "      <td>0</td>\n",
       "      <td>0</td>\n",
       "      <td>0</td>\n",
       "      <td>303.0</td>\n",
       "      <td>3</td>\n",
       "      <td>11</td>\n",
       "      <td>10034.0</td>\n",
       "      <td>132</td>\n",
       "      <td>101</td>\n",
       "    </tr>\n",
       "    <tr>\n",
       "      <th>3167</th>\n",
       "      <td>2250</td>\n",
       "      <td>14</td>\n",
       "      <td>5</td>\n",
       "      <td>2</td>\n",
       "      <td>0</td>\n",
       "      <td>5</td>\n",
       "      <td>303.0</td>\n",
       "      <td>3</td>\n",
       "      <td>11</td>\n",
       "      <td>10034.0</td>\n",
       "      <td>132</td>\n",
       "      <td>101</td>\n",
       "    </tr>\n",
       "  </tbody>\n",
       "</table>\n",
       "</div>"
      ],
      "text/plain": [
       "      Block  Lot  2004-2008_#_permits_bl  2009-2012_#_permits_bl  \\\n",
       "3163   2250   54                       6                       2   \n",
       "3164   2250   72                       0                       0   \n",
       "3165   2243  347                       5                       6   \n",
       "3166   2243  354                       3                       0   \n",
       "3167   2250   14                       5                       2   \n",
       "\n",
       "      2013-2016_#_permits_bl  2017-2019_#_permits_bl  CENSUS_TRACT  \\\n",
       "3163                       0                       9         307.0   \n",
       "3164                       1                       3         307.0   \n",
       "3165                       3                       6         303.0   \n",
       "3166                       0                       0         303.0   \n",
       "3167                       0                       5         303.0   \n",
       "\n",
       "      2013-2016_#_permits_ct  2017-2019_#_permits_ct  Zip Code  \\\n",
       "3163                      51                      37   10034.0   \n",
       "3164                      51                      37   10034.0   \n",
       "3165                       3                      11   10034.0   \n",
       "3166                       3                      11   10034.0   \n",
       "3167                       3                      11   10034.0   \n",
       "\n",
       "      2013-2016_#_permits_zc  2017-2019_#_permits_zc  \n",
       "3163                     132                     101  \n",
       "3164                     132                     101  \n",
       "3165                     132                     101  \n",
       "3166                     132                     101  \n",
       "3167                     132                     101  "
      ]
     },
     "execution_count": 92,
     "metadata": {},
     "output_type": "execute_result"
    }
   ],
   "source": [
    "permits_lag.tail()"
   ]
  },
  {
   "cell_type": "code",
   "execution_count": 93,
   "metadata": {
    "collapsed": true
   },
   "outputs": [],
   "source": [
    "del permits_bl, permits_ct, permits_zc"
   ]
  },
  {
   "cell_type": "markdown",
   "metadata": {},
   "source": [
    "### number of each job types grouped by block and lot"
   ]
  },
  {
   "cell_type": "code",
   "execution_count": 94,
   "metadata": {
    "collapsed": true
   },
   "outputs": [],
   "source": [
    "jt_bl = pd.pivot_table(sales_data_man, index = ['Block', 'Lot'], columns = ['Job Type'], values = 'max_sales', \n",
    "               aggfunc='count', fill_value=0).reset_index()"
   ]
  },
  {
   "cell_type": "code",
   "execution_count": 95,
   "metadata": {},
   "outputs": [
    {
     "data": {
      "text/html": [
       "<div>\n",
       "<style scoped>\n",
       "    .dataframe tbody tr th:only-of-type {\n",
       "        vertical-align: middle;\n",
       "    }\n",
       "\n",
       "    .dataframe tbody tr th {\n",
       "        vertical-align: top;\n",
       "    }\n",
       "\n",
       "    .dataframe thead th {\n",
       "        text-align: right;\n",
       "    }\n",
       "</style>\n",
       "<table border=\"1\" class=\"dataframe\">\n",
       "  <thead>\n",
       "    <tr style=\"text-align: right;\">\n",
       "      <th>Job Type</th>\n",
       "      <th>Block</th>\n",
       "      <th>Lot</th>\n",
       "      <th>A1</th>\n",
       "      <th>A2</th>\n",
       "      <th>A3</th>\n",
       "      <th>DM</th>\n",
       "      <th>NB</th>\n",
       "      <th>SG</th>\n",
       "    </tr>\n",
       "  </thead>\n",
       "  <tbody>\n",
       "    <tr>\n",
       "      <th>0</th>\n",
       "      <td>2</td>\n",
       "      <td>2</td>\n",
       "      <td>0</td>\n",
       "      <td>10</td>\n",
       "      <td>16</td>\n",
       "      <td>0</td>\n",
       "      <td>0</td>\n",
       "      <td>0</td>\n",
       "    </tr>\n",
       "    <tr>\n",
       "      <th>1</th>\n",
       "      <td>8</td>\n",
       "      <td>39</td>\n",
       "      <td>18</td>\n",
       "      <td>17</td>\n",
       "      <td>14</td>\n",
       "      <td>0</td>\n",
       "      <td>0</td>\n",
       "      <td>3</td>\n",
       "    </tr>\n",
       "    <tr>\n",
       "      <th>2</th>\n",
       "      <td>11</td>\n",
       "      <td>14</td>\n",
       "      <td>5</td>\n",
       "      <td>40</td>\n",
       "      <td>5</td>\n",
       "      <td>0</td>\n",
       "      <td>0</td>\n",
       "      <td>0</td>\n",
       "    </tr>\n",
       "    <tr>\n",
       "      <th>3</th>\n",
       "      <td>11</td>\n",
       "      <td>17</td>\n",
       "      <td>0</td>\n",
       "      <td>10</td>\n",
       "      <td>3</td>\n",
       "      <td>0</td>\n",
       "      <td>0</td>\n",
       "      <td>0</td>\n",
       "    </tr>\n",
       "    <tr>\n",
       "      <th>4</th>\n",
       "      <td>13</td>\n",
       "      <td>1</td>\n",
       "      <td>1</td>\n",
       "      <td>53</td>\n",
       "      <td>6</td>\n",
       "      <td>0</td>\n",
       "      <td>0</td>\n",
       "      <td>2</td>\n",
       "    </tr>\n",
       "  </tbody>\n",
       "</table>\n",
       "</div>"
      ],
      "text/plain": [
       "Job Type  Block  Lot  A1  A2  A3  DM  NB  SG\n",
       "0             2    2   0  10  16   0   0   0\n",
       "1             8   39  18  17  14   0   0   3\n",
       "2            11   14   5  40   5   0   0   0\n",
       "3            11   17   0  10   3   0   0   0\n",
       "4            13    1   1  53   6   0   0   2"
      ]
     },
     "execution_count": 95,
     "metadata": {},
     "output_type": "execute_result"
    }
   ],
   "source": [
    "jt_bl.head()"
   ]
  },
  {
   "cell_type": "code",
   "execution_count": 96,
   "metadata": {},
   "outputs": [
    {
     "data": {
      "text/plain": [
       "(3160, 8)"
      ]
     },
     "execution_count": 96,
     "metadata": {},
     "output_type": "execute_result"
    }
   ],
   "source": [
    "jt_bl.shape"
   ]
  },
  {
   "cell_type": "markdown",
   "metadata": {},
   "source": [
    "### number of self_cert grouped by block and lot"
   ]
  },
  {
   "cell_type": "code",
   "execution_count": 97,
   "metadata": {
    "collapsed": true
   },
   "outputs": [],
   "source": [
    "sc_bl = pd.pivot_table(sales_data_man, index = ['Block', 'Lot'], columns = ['Self_Cert'], values = 'max_sales',\n",
    "                      aggfunc = 'count', fill_value = 0)\n",
    "sc_bl.columns = ['sc_N', 'sc_Y']\n",
    "sc_bl.reset_index(inplace = True)"
   ]
  },
  {
   "cell_type": "code",
   "execution_count": 98,
   "metadata": {},
   "outputs": [
    {
     "data": {
      "text/plain": [
       "(3083, 4)"
      ]
     },
     "execution_count": 98,
     "metadata": {},
     "output_type": "execute_result"
    }
   ],
   "source": [
    "sc_bl.shape"
   ]
  },
  {
   "cell_type": "code",
   "execution_count": 99,
   "metadata": {},
   "outputs": [
    {
     "data": {
      "text/html": [
       "<div>\n",
       "<style scoped>\n",
       "    .dataframe tbody tr th:only-of-type {\n",
       "        vertical-align: middle;\n",
       "    }\n",
       "\n",
       "    .dataframe tbody tr th {\n",
       "        vertical-align: top;\n",
       "    }\n",
       "\n",
       "    .dataframe thead th {\n",
       "        text-align: right;\n",
       "    }\n",
       "</style>\n",
       "<table border=\"1\" class=\"dataframe\">\n",
       "  <thead>\n",
       "    <tr style=\"text-align: right;\">\n",
       "      <th></th>\n",
       "      <th>Block</th>\n",
       "      <th>Lot</th>\n",
       "      <th>sc_N</th>\n",
       "      <th>sc_Y</th>\n",
       "    </tr>\n",
       "  </thead>\n",
       "  <tbody>\n",
       "    <tr>\n",
       "      <th>0</th>\n",
       "      <td>2</td>\n",
       "      <td>2</td>\n",
       "      <td>6</td>\n",
       "      <td>20</td>\n",
       "    </tr>\n",
       "    <tr>\n",
       "      <th>1</th>\n",
       "      <td>8</td>\n",
       "      <td>39</td>\n",
       "      <td>15</td>\n",
       "      <td>14</td>\n",
       "    </tr>\n",
       "    <tr>\n",
       "      <th>2</th>\n",
       "      <td>11</td>\n",
       "      <td>14</td>\n",
       "      <td>26</td>\n",
       "      <td>10</td>\n",
       "    </tr>\n",
       "    <tr>\n",
       "      <th>3</th>\n",
       "      <td>11</td>\n",
       "      <td>17</td>\n",
       "      <td>3</td>\n",
       "      <td>10</td>\n",
       "    </tr>\n",
       "    <tr>\n",
       "      <th>4</th>\n",
       "      <td>13</td>\n",
       "      <td>1</td>\n",
       "      <td>22</td>\n",
       "      <td>38</td>\n",
       "    </tr>\n",
       "  </tbody>\n",
       "</table>\n",
       "</div>"
      ],
      "text/plain": [
       "   Block  Lot  sc_N  sc_Y\n",
       "0      2    2     6    20\n",
       "1      8   39    15    14\n",
       "2     11   14    26    10\n",
       "3     11   17     3    10\n",
       "4     13    1    22    38"
      ]
     },
     "execution_count": 99,
     "metadata": {},
     "output_type": "execute_result"
    }
   ],
   "source": [
    "sc_bl.head()"
   ]
  },
  {
   "cell_type": "markdown",
   "metadata": {},
   "source": [
    "### number of residential permits"
   ]
  },
  {
   "cell_type": "code",
   "execution_count": 100,
   "metadata": {
    "collapsed": true,
    "scrolled": true
   },
   "outputs": [],
   "source": [
    "resid_bl = sales_data_man.groupby(['Block', 'Lot'])['Residential'].count().reset_index()"
   ]
  },
  {
   "cell_type": "code",
   "execution_count": 101,
   "metadata": {},
   "outputs": [
    {
     "data": {
      "text/html": [
       "<div>\n",
       "<style scoped>\n",
       "    .dataframe tbody tr th:only-of-type {\n",
       "        vertical-align: middle;\n",
       "    }\n",
       "\n",
       "    .dataframe tbody tr th {\n",
       "        vertical-align: top;\n",
       "    }\n",
       "\n",
       "    .dataframe thead th {\n",
       "        text-align: right;\n",
       "    }\n",
       "</style>\n",
       "<table border=\"1\" class=\"dataframe\">\n",
       "  <thead>\n",
       "    <tr style=\"text-align: right;\">\n",
       "      <th></th>\n",
       "      <th>Block</th>\n",
       "      <th>Lot</th>\n",
       "      <th>Residential</th>\n",
       "    </tr>\n",
       "  </thead>\n",
       "  <tbody>\n",
       "    <tr>\n",
       "      <th>0</th>\n",
       "      <td>2</td>\n",
       "      <td>2</td>\n",
       "      <td>0</td>\n",
       "    </tr>\n",
       "    <tr>\n",
       "      <th>1</th>\n",
       "      <td>8</td>\n",
       "      <td>39</td>\n",
       "      <td>15</td>\n",
       "    </tr>\n",
       "    <tr>\n",
       "      <th>2</th>\n",
       "      <td>11</td>\n",
       "      <td>14</td>\n",
       "      <td>30</td>\n",
       "    </tr>\n",
       "    <tr>\n",
       "      <th>3</th>\n",
       "      <td>11</td>\n",
       "      <td>17</td>\n",
       "      <td>0</td>\n",
       "    </tr>\n",
       "    <tr>\n",
       "      <th>4</th>\n",
       "      <td>13</td>\n",
       "      <td>1</td>\n",
       "      <td>0</td>\n",
       "    </tr>\n",
       "  </tbody>\n",
       "</table>\n",
       "</div>"
      ],
      "text/plain": [
       "   Block  Lot  Residential\n",
       "0      2    2            0\n",
       "1      8   39           15\n",
       "2     11   14           30\n",
       "3     11   17            0\n",
       "4     13    1            0"
      ]
     },
     "execution_count": 101,
     "metadata": {},
     "output_type": "execute_result"
    }
   ],
   "source": [
    "resid_bl.head()"
   ]
  },
  {
   "cell_type": "code",
   "execution_count": 102,
   "metadata": {},
   "outputs": [
    {
     "data": {
      "text/plain": [
       "(3160, 3)"
      ]
     },
     "execution_count": 102,
     "metadata": {},
     "output_type": "execute_result"
    }
   ],
   "source": [
    "resid_bl.shape"
   ]
  },
  {
   "cell_type": "markdown",
   "metadata": {},
   "source": [
    "### number of non-profit permits"
   ]
  },
  {
   "cell_type": "code",
   "execution_count": 103,
   "metadata": {},
   "outputs": [
    {
     "data": {
      "text/plain": [
       "array(['N', 'Y', nan], dtype=object)"
      ]
     },
     "execution_count": 103,
     "metadata": {},
     "output_type": "execute_result"
    }
   ],
   "source": [
    "sales_data_man['Non-Profit'].unique()"
   ]
  },
  {
   "cell_type": "code",
   "execution_count": 104,
   "metadata": {
    "collapsed": true
   },
   "outputs": [],
   "source": [
    "np_bl = pd.pivot_table(sales_data_man, index = ['Block', 'Lot'], columns = ['Non-Profit'], values = 'max_sales',\n",
    "                      aggfunc = 'count', fill_value = 0)\n",
    "np_bl.columns = ['np_N', 'np_Y']\n",
    "np_bl.reset_index(inplace = True)"
   ]
  },
  {
   "cell_type": "code",
   "execution_count": 105,
   "metadata": {},
   "outputs": [
    {
     "data": {
      "text/html": [
       "<div>\n",
       "<style scoped>\n",
       "    .dataframe tbody tr th:only-of-type {\n",
       "        vertical-align: middle;\n",
       "    }\n",
       "\n",
       "    .dataframe tbody tr th {\n",
       "        vertical-align: top;\n",
       "    }\n",
       "\n",
       "    .dataframe thead th {\n",
       "        text-align: right;\n",
       "    }\n",
       "</style>\n",
       "<table border=\"1\" class=\"dataframe\">\n",
       "  <thead>\n",
       "    <tr style=\"text-align: right;\">\n",
       "      <th></th>\n",
       "      <th>Block</th>\n",
       "      <th>Lot</th>\n",
       "      <th>np_N</th>\n",
       "      <th>np_Y</th>\n",
       "    </tr>\n",
       "  </thead>\n",
       "  <tbody>\n",
       "    <tr>\n",
       "      <th>0</th>\n",
       "      <td>2</td>\n",
       "      <td>2</td>\n",
       "      <td>24</td>\n",
       "      <td>2</td>\n",
       "    </tr>\n",
       "    <tr>\n",
       "      <th>1</th>\n",
       "      <td>8</td>\n",
       "      <td>39</td>\n",
       "      <td>52</td>\n",
       "      <td>0</td>\n",
       "    </tr>\n",
       "    <tr>\n",
       "      <th>2</th>\n",
       "      <td>11</td>\n",
       "      <td>14</td>\n",
       "      <td>50</td>\n",
       "      <td>0</td>\n",
       "    </tr>\n",
       "    <tr>\n",
       "      <th>3</th>\n",
       "      <td>11</td>\n",
       "      <td>17</td>\n",
       "      <td>13</td>\n",
       "      <td>0</td>\n",
       "    </tr>\n",
       "    <tr>\n",
       "      <th>4</th>\n",
       "      <td>13</td>\n",
       "      <td>1</td>\n",
       "      <td>50</td>\n",
       "      <td>4</td>\n",
       "    </tr>\n",
       "  </tbody>\n",
       "</table>\n",
       "</div>"
      ],
      "text/plain": [
       "   Block  Lot  np_N  np_Y\n",
       "0      2    2    24     2\n",
       "1      8   39    52     0\n",
       "2     11   14    50     0\n",
       "3     11   17    13     0\n",
       "4     13    1    50     4"
      ]
     },
     "execution_count": 105,
     "metadata": {},
     "output_type": "execute_result"
    }
   ],
   "source": [
    "np_bl.head()"
   ]
  },
  {
   "cell_type": "code",
   "execution_count": 106,
   "metadata": {},
   "outputs": [
    {
     "data": {
      "text/plain": [
       "(3160, 4)"
      ]
     },
     "execution_count": 106,
     "metadata": {},
     "output_type": "execute_result"
    }
   ],
   "source": [
    "np_bl.shape"
   ]
  },
  {
   "cell_type": "markdown",
   "metadata": {},
   "source": [
    "### Data of council district, dis_cp as per block and lot"
   ]
  },
  {
   "cell_type": "code",
   "execution_count": 107,
   "metadata": {
    "collapsed": true
   },
   "outputs": [],
   "source": [
    "cd_dis_cp_bl = sales_data_man[['Block', 'Lot', 'COUNCIL_DISTRICT']].drop_duplicates()"
   ]
  },
  {
   "cell_type": "code",
   "execution_count": 108,
   "metadata": {},
   "outputs": [
    {
     "data": {
      "text/plain": [
       "(3168, 3)"
      ]
     },
     "execution_count": 108,
     "metadata": {},
     "output_type": "execute_result"
    }
   ],
   "source": [
    "cd_dis_cp_bl.shape"
   ]
  },
  {
   "cell_type": "code",
   "execution_count": 109,
   "metadata": {
    "collapsed": true
   },
   "outputs": [],
   "source": [
    "# Merge all the permit data\n",
    "permit_data = permits_lag.merge(jt_bl, on = ['Block', 'Lot'])\n",
    "permit_data = permit_data.merge(sc_bl, on = ['Block', 'Lot'])\n",
    "permit_data = permit_data.merge(resid_bl, on = ['Block', 'Lot'])\n",
    "permit_data = permit_data.merge(np_bl, on = ['Block', 'Lot'])\n",
    "permit_data = permit_data.merge(cd_dis_cp_bl, on = ['Block', 'Lot'])"
   ]
  },
  {
   "cell_type": "code",
   "execution_count": 110,
   "metadata": {
    "collapsed": true
   },
   "outputs": [],
   "source": [
    "with open(r'F:\\Old_Desktop\\UC Davis\\NYC permit data\\permit_data.pkl', 'wb') as file:\n",
    "    pickle.dump(permit_data, file, protocol=pickle.HIGHEST_PROTOCOL)"
   ]
  },
  {
   "cell_type": "code",
   "execution_count": 111,
   "metadata": {
    "collapsed": true
   },
   "outputs": [],
   "source": [
    "# with open(r'F:\\Old_Desktop\\UC Davis\\NYC permit data\\permit_data.pkl', 'rb') as file:\n",
    "#     permit_data = pickle.load(file)"
   ]
  },
  {
   "cell_type": "code",
   "execution_count": 112,
   "metadata": {},
   "outputs": [
    {
     "data": {
      "text/plain": [
       "(3101, 24)"
      ]
     },
     "execution_count": 112,
     "metadata": {},
     "output_type": "execute_result"
    }
   ],
   "source": [
    "permit_data.shape"
   ]
  },
  {
   "cell_type": "markdown",
   "metadata": {
    "collapsed": true
   },
   "source": [
    "### Add distances from tube stations"
   ]
  },
  {
   "cell_type": "code",
   "execution_count": 113,
   "metadata": {
    "collapsed": true
   },
   "outputs": [],
   "source": [
    "sub_loc = pd.read_csv(r'F:\\Old_Desktop\\UC Davis\\NYC permit data\\NYC_Transit_Subway_Entrance_And_Exit_Data.csv')"
   ]
  },
  {
   "cell_type": "code",
   "execution_count": 114,
   "metadata": {},
   "outputs": [
    {
     "data": {
      "text/plain": [
       "(1868, 32)"
      ]
     },
     "execution_count": 114,
     "metadata": {},
     "output_type": "execute_result"
    }
   ],
   "source": [
    "sub_loc.shape"
   ]
  },
  {
   "cell_type": "code",
   "execution_count": 115,
   "metadata": {},
   "outputs": [
    {
     "data": {
      "text/plain": [
       "Index(['Division', 'Line', 'Station Name', 'Station Latitude',\n",
       "       'Station Longitude', 'Route1', 'Route2', 'Route3', 'Route4', 'Route5',\n",
       "       'Route6', 'Route7', 'Route8', 'Route9', 'Route10', 'Route11',\n",
       "       'Entrance Type', 'Entry', 'Exit Only', 'Vending', 'Staffing',\n",
       "       'Staff Hours', 'ADA', 'ADA Notes', 'Free Crossover',\n",
       "       'North South Street', 'East West Street', 'Corner', 'Entrance Latitude',\n",
       "       'Entrance Longitude', 'Station Location', 'Entrance Location'],\n",
       "      dtype='object')"
      ]
     },
     "execution_count": 115,
     "metadata": {},
     "output_type": "execute_result"
    }
   ],
   "source": [
    "sub_loc.columns"
   ]
  },
  {
   "cell_type": "code",
   "execution_count": 117,
   "metadata": {
    "collapsed": true
   },
   "outputs": [],
   "source": [
    "# Tuples of (Lat, Lon) for stations\n",
    "sub_cord = sub_loc[['Station Latitude', 'Station Longitude']].drop_duplicates()\n",
    "sub_cord = [tuple(x) for x in sub_cord.values]"
   ]
  },
  {
   "cell_type": "code",
   "execution_count": 118,
   "metadata": {
    "collapsed": true
   },
   "outputs": [],
   "source": [
    "# Tuples of (Lat, Lon) for blocks and lot combination\n",
    "bl_cord = [tuple(x) for x in \n",
    "           sales_data_man.groupby(['Block','Lot'])[['LATITUDE', 'LONGITUDE']].first().drop_duplicates().values]"
   ]
  },
  {
   "cell_type": "code",
   "execution_count": 119,
   "metadata": {
    "collapsed": true
   },
   "outputs": [],
   "source": [
    "near_st = [calc_dis(x,key=0.3) for x in bl_cord]"
   ]
  },
  {
   "cell_type": "code",
   "execution_count": 120,
   "metadata": {
    "collapsed": true
   },
   "outputs": [],
   "source": [
    "# Creating the data with stations within 300 feet for a block and lot combination\n",
    "bl_cord_df = sales_data_man.groupby(['Block','Lot'])[['LATITUDE', 'LONGITUDE']].first().drop_duplicates().reset_index()\n",
    "bl_cord_df['near_st'] = near_st"
   ]
  },
  {
   "cell_type": "code",
   "execution_count": 121,
   "metadata": {
    "collapsed": true
   },
   "outputs": [],
   "source": [
    "with open(r'F:\\Old_Desktop\\UC Davis\\NYC permit data\\bl_cord_df.pkl', 'wb') as file:\n",
    "    pickle.dump(bl_cord_df, file, protocol=pickle.HIGHEST_PROTOCOL)"
   ]
  },
  {
   "cell_type": "code",
   "execution_count": 122,
   "metadata": {
    "collapsed": true
   },
   "outputs": [],
   "source": [
    "# with open(r'F:\\Old_Desktop\\UC Davis\\NYC permit data\\bl_cord_df.pkl', 'rb') as file:\n",
    "#     bl_cord_df = pickle.load(file)"
   ]
  },
  {
   "cell_type": "code",
   "execution_count": 123,
   "metadata": {
    "collapsed": true
   },
   "outputs": [],
   "source": [
    "# Create the data set containing permit, sales and distance data\n",
    "full_data_st = permit_data.merge(sales, on = ['Block', 'Lot'])\n",
    "full_data_st = full_data_st.merge(bl_cord_df, on = ['Block', 'Lot'])\n",
    "full_data_st = full_data_st.query('max_sales>0')"
   ]
  },
  {
   "cell_type": "code",
   "execution_count": 124,
   "metadata": {
    "collapsed": true
   },
   "outputs": [],
   "source": [
    "full_data_st.drop(['Block', 'Lot', 'ZIP CODE', 'Zip Code', 'COUNCIL_DISTRICT', 'CENSUS_TRACT', 'BUILDING CLASS CATEGORY',\n",
    "               'BUILDING CLASS AT TIME OF SALE', 'LATITUDE', 'LONGITUDE'], #, \n",
    "               axis = 1, inplace = True)"
   ]
  },
  {
   "cell_type": "code",
   "execution_count": 125,
   "metadata": {},
   "outputs": [
    {
     "data": {
      "text/plain": [
       "Index(['2004-2008_#_permits_bl', '2009-2012_#_permits_bl',\n",
       "       '2013-2016_#_permits_bl', '2017-2019_#_permits_bl',\n",
       "       '2013-2016_#_permits_ct', '2017-2019_#_permits_ct',\n",
       "       '2013-2016_#_permits_zc', '2017-2019_#_permits_zc', 'A1', 'A2', 'A3',\n",
       "       'DM', 'NB', 'SG', 'sc_N', 'sc_Y', 'Residential', 'np_N', 'np_Y',\n",
       "       'TAX CLASS AT PRESENT', 'RESIDENTIAL UNITS', 'COMMERCIAL UNITS',\n",
       "       'GROSS SQUARE FEET', 'YEAR BUILT', 'max_sales', 'near_st'],\n",
       "      dtype='object')"
      ]
     },
     "execution_count": 125,
     "metadata": {},
     "output_type": "execute_result"
    }
   ],
   "source": [
    "full_data_st.columns"
   ]
  },
  {
   "cell_type": "code",
   "execution_count": 126,
   "metadata": {},
   "outputs": [
    {
     "data": {
      "text/plain": [
       "(2518, 26)"
      ]
     },
     "execution_count": 126,
     "metadata": {},
     "output_type": "execute_result"
    }
   ],
   "source": [
    "full_data_st.dropna(inplace = True)\n",
    "full_data_st.shape"
   ]
  },
  {
   "cell_type": "code",
   "execution_count": 127,
   "metadata": {
    "collapsed": true
   },
   "outputs": [],
   "source": [
    "full_data_st[['TAX CLASS AT PRESENT']] = full_data_st['TAX CLASS AT PRESENT'].astype('str')\n",
    "cat_cols = ['YEAR BUILT', 'TAX CLASS AT PRESENT']"
   ]
  },
  {
   "cell_type": "code",
   "execution_count": 128,
   "metadata": {
    "collapsed": true
   },
   "outputs": [],
   "source": [
    "# Lable Encoding for categorical variables\n",
    "le = LabelEncoder()\n",
    "full_data_st[cat_cols] = full_data_st[cat_cols].apply(lambda x: le.fit_transform(x))"
   ]
  },
  {
   "cell_type": "code",
   "execution_count": 129,
   "metadata": {
    "collapsed": true
   },
   "outputs": [],
   "source": [
    "X_ps = full_data_st.drop('max_sales', axis = 1)\n",
    "y_ps = np.log(full_data_st['max_sales'].values)"
   ]
  },
  {
   "cell_type": "code",
   "execution_count": 130,
   "metadata": {
    "collapsed": true
   },
   "outputs": [],
   "source": [
    "# Splitting in train and test/validation set\n",
    "X_ps_train, X_ps_test, y_ps_train, y_ps_test = train_test_split(X_ps, y_ps, test_size = 0.2, random_state = 44)"
   ]
  },
  {
   "cell_type": "code",
   "execution_count": 131,
   "metadata": {},
   "outputs": [
    {
     "name": "stderr",
     "output_type": "stream",
     "text": [
      "F:\\Python\\lib\\site-packages\\sklearn\\preprocessing\\_encoders.py:371: FutureWarning: The handling of integer data will change in version 0.22. Currently, the categories are determined based on the range [0, max(values)], while in the future they will be determined based on the unique values.\n",
      "If you want the future behaviour and silence this warning, you can specify \"categories='auto'\".\n",
      "In case you used a LabelEncoder before this OneHotEncoder to convert the categories to integers, then you can now use the OneHotEncoder directly.\n",
      "  warnings.warn(msg, FutureWarning)\n"
     ]
    }
   ],
   "source": [
    "# One hot encoder\n",
    "oh_enc = OneHotEncoder(categories='auto')\n",
    "ct = ColumnTransformer(\n",
    "    [('oh_enc', OneHotEncoder(sparse=False), cat_cols),]\n",
    ")\n",
    "X_ps_train_cat = ct.fit_transform(X_ps_train)\n",
    "X_ps_test_cat = ct.transform(X_ps_test)"
   ]
  },
  {
   "cell_type": "code",
   "execution_count": 132,
   "metadata": {
    "collapsed": true
   },
   "outputs": [],
   "source": [
    "X_ps_train_enc = np.concatenate([X_ps_train.drop(cat_cols, axis=1).values, X_ps_train_cat], axis=1)\n",
    "X_ps_test_enc = np.concatenate([X_ps_test.drop(cat_cols, axis=1).values, X_ps_test_cat], axis=1)"
   ]
  },
  {
   "cell_type": "code",
   "execution_count": 133,
   "metadata": {
    "collapsed": true
   },
   "outputs": [],
   "source": [
    "feat = X_ps_train.drop(cat_cols, axis=1).columns.tolist()\n",
    "feat.extend(ct.get_feature_names())"
   ]
  },
  {
   "cell_type": "markdown",
   "metadata": {
    "collapsed": true
   },
   "source": [
    "#### XGBOOST with Hyperopt"
   ]
  },
  {
   "cell_type": "code",
   "execution_count": 134,
   "metadata": {
    "collapsed": true
   },
   "outputs": [],
   "source": [
    "# Parameter space considered for hyper-parameter tuning\n",
    "params_space = {\n",
    "    'subsample': hp.quniform('subsample', 0.5, 1, 0.05),\n",
    "    'colsample_bytree': hp.quniform('colsample_bytree', 0.7, 1, 0.05),\n",
    "    'gamma': hp.quniform('gamma', 0, 1, 0.05),\n",
    "    'depth': hp.choice('depth',np.arange(1,16, dtype=int)),\n",
    "    'min_child_weight': hp.quniform('min_child_weight', 1,15,2),\n",
    "    'eval_metric': 'rmse',\n",
    "    'objective': 'reg:linear'\n",
    "}"
   ]
  },
  {
   "cell_type": "code",
   "execution_count": 135,
   "metadata": {
    "collapsed": true
   },
   "outputs": [],
   "source": [
    "# write the ouptut to file\n",
    "out_file = r'F:\\Old_Desktop\\UC Davis\\NYC permit data\\xgboost_trials_nyc.csv'\n",
    "of_connection = open(out_file, 'w')\n",
    "writer = csv.writer(of_connection)\n",
    "\n",
    "# Write the headers to the file\n",
    "writer.writerow(['iteration', 'loss', 'params', 'train_time', 'n_trees'])\n",
    "of_connection.close()"
   ]
  },
  {
   "cell_type": "code",
   "execution_count": 175,
   "metadata": {
    "scrolled": false
   },
   "outputs": [
    {
     "name": "stdout",
     "output_type": "stream",
     "text": [
      "ITERATION: 50\n",
      "params:  {'colsample_bytree': 1.0, 'depth': 5, 'eval_metric': 'rmse', 'gamma': 0.9500000000000001, 'min_child_weight': 10.0, 'objective': 'reg:linear', 'subsample': 0.55}\n",
      "loss: 1.31133\n",
      "ITERATION: 100\n",
      "params:  {'colsample_bytree': 0.7000000000000001, 'depth': 6, 'eval_metric': 'rmse', 'gamma': 0.8, 'min_child_weight': 14.0, 'objective': 'reg:linear', 'subsample': 0.8500000000000001}\n",
      "loss: 1.28672\n",
      "ITERATION: 150\n",
      "params:  {'colsample_bytree': 0.9500000000000001, 'depth': 4, 'eval_metric': 'rmse', 'gamma': 0.9, 'min_child_weight': 12.0, 'objective': 'reg:linear', 'subsample': 0.65}\n",
      "loss: 1.27413\n",
      "ITERATION: 200\n",
      "params:  {'colsample_bytree': 0.9500000000000001, 'depth': 14, 'eval_metric': 'rmse', 'gamma': 0.35000000000000003, 'min_child_weight': 6.0, 'objective': 'reg:linear', 'subsample': 0.8500000000000001}\n",
      "loss: 1.31516\n",
      "ITERATION: 250\n",
      "params:  {'colsample_bytree': 0.8500000000000001, 'depth': 3, 'eval_metric': 'rmse', 'gamma': 1.0, 'min_child_weight': 14.0, 'objective': 'reg:linear', 'subsample': 0.9500000000000001}\n",
      "loss: 1.26327\n",
      "ITERATION: 300\n",
      "params:  {'colsample_bytree': 0.75, 'depth': 5, 'eval_metric': 'rmse', 'gamma': 0.0, 'min_child_weight': 14.0, 'objective': 'reg:linear', 'subsample': 0.9}\n",
      "loss: 1.27382\n",
      "ITERATION: 350\n",
      "params:  {'colsample_bytree': 0.9, 'depth': 6, 'eval_metric': 'rmse', 'gamma': 0.35000000000000003, 'min_child_weight': 14.0, 'objective': 'reg:linear', 'subsample': 0.9}\n",
      "loss: 1.27496\n",
      "ITERATION: 400\n",
      "params:  {'colsample_bytree': 0.8, 'depth': 7, 'eval_metric': 'rmse', 'gamma': 0.45, 'min_child_weight': 8.0, 'objective': 'reg:linear', 'subsample': 0.9}\n",
      "loss: 1.31643\n",
      "ITERATION: 450\n",
      "params:  {'colsample_bytree': 0.75, 'depth': 5, 'eval_metric': 'rmse', 'gamma': 0.4, 'min_child_weight': 14.0, 'objective': 'reg:linear', 'subsample': 0.9}\n",
      "loss: 1.27954\n",
      "ITERATION: 500\n",
      "params:  {'colsample_bytree': 0.8, 'depth': 5, 'eval_metric': 'rmse', 'gamma': 0.4, 'min_child_weight': 12.0, 'objective': 'reg:linear', 'subsample': 0.9500000000000001}\n",
      "loss: 1.28640\n",
      "ITERATION: 550\n",
      "params:  {'colsample_bytree': 0.75, 'depth': 5, 'eval_metric': 'rmse', 'gamma': 0.55, 'min_child_weight': 14.0, 'objective': 'reg:linear', 'subsample': 1.0}\n",
      "loss: 1.27826\n",
      "ITERATION: 600\n",
      "params:  {'colsample_bytree': 0.8500000000000001, 'depth': 7, 'eval_metric': 'rmse', 'gamma': 0.6000000000000001, 'min_child_weight': 14.0, 'objective': 'reg:linear', 'subsample': 1.0}\n",
      "loss: 1.29154\n",
      "ITERATION: 650\n",
      "params:  {'colsample_bytree': 0.75, 'depth': 6, 'eval_metric': 'rmse', 'gamma': 0.25, 'min_child_weight': 12.0, 'objective': 'reg:linear', 'subsample': 1.0}\n",
      "loss: 1.29077\n",
      "ITERATION: 700\n",
      "params:  {'colsample_bytree': 0.8, 'depth': 5, 'eval_metric': 'rmse', 'gamma': 0.25, 'min_child_weight': 6.0, 'objective': 'reg:linear', 'subsample': 0.9}\n",
      "loss: 1.31013\n",
      "ITERATION: 750\n",
      "params:  {'colsample_bytree': 0.8, 'depth': 12, 'eval_metric': 'rmse', 'gamma': 0.2, 'min_child_weight': 12.0, 'objective': 'reg:linear', 'subsample': 0.9500000000000001}\n",
      "loss: 1.30665\n",
      "ITERATION: 800\n",
      "params:  {'colsample_bytree': 0.8, 'depth': 5, 'eval_metric': 'rmse', 'gamma': 0.1, 'min_child_weight': 14.0, 'objective': 'reg:linear', 'subsample': 1.0}\n",
      "loss: 1.28156\n"
     ]
    }
   ],
   "source": [
    "# Run optimization\n",
    "trials = hyperopt.Trials()\n",
    "global  ITERATION\n",
    "ITERATION = 0\n",
    "best = hyperopt.fmin(\n",
    "    objective,\n",
    "    space=params_space,\n",
    "    algo=hyperopt.tpe.suggest,\n",
    "    max_evals=800,\n",
    "    trials=trials,\n",
    "    rstate=np.random.RandomState(ITERATION)\n",
    ")"
   ]
  },
  {
   "cell_type": "code",
   "execution_count": 177,
   "metadata": {},
   "outputs": [
    {
     "data": {
      "text/plain": [
       "{'colsample_bytree': 0.8,\n",
       " 'depth': 5,\n",
       " 'eval_metric': 'rmse',\n",
       " 'gamma': 0.15000000000000002,\n",
       " 'min_child_weight': 14.0,\n",
       " 'objective': 'reg:linear',\n",
       " 'subsample': 0.9500000000000001}"
      ]
     },
     "execution_count": 177,
     "metadata": {},
     "output_type": "execute_result"
    }
   ],
   "source": [
    "# Best parameters\n",
    "xgb_tune_results = pd.read_csv(out_file)\n",
    "xgb_tune_results.sort_values('loss', ascending=True, inplace=True)\n",
    "xgb_tune_results.reset_index(inplace = True)\n",
    "best_params = ast.literal_eval(xgb_tune_results.loc[0, 'params'])\n",
    "best_params"
   ]
  },
  {
   "cell_type": "code",
   "execution_count": 237,
   "metadata": {},
   "outputs": [
    {
     "name": "stdout",
     "output_type": "stream",
     "text": [
      "[0]\ttrain-rmse:13.4574\tval-rmse:13.3604\n",
      "Multiple eval metrics have been passed: 'val-rmse' will be used for early stopping.\n",
      "\n",
      "Will train until val-rmse hasn't improved in 100 rounds.\n",
      "[100]\ttrain-rmse:1.10896\tval-rmse:1.26085\n",
      "[200]\ttrain-rmse:0.95366\tval-rmse:1.26541\n",
      "Stopping. Best iteration:\n",
      "[106]\ttrain-rmse:1.09926\tval-rmse:1.2588\n",
      "\n"
     ]
    }
   ],
   "source": [
    "# training the model with best parameters to find optimum value of estimators\n",
    "xgbmodel = XGBRegressor(learning_rate=0.05, n_estimators=3000, n_jobs = -1, eval_metric = 'rmse', seed = 44, \n",
    "                        min_child_weight = 14, gamma = 0.15, subsample = 0.95, colsample_bytree=.8, max_depth = 5)\n",
    "xgtrain = xgb.DMatrix(X_ps_train_enc, label=y_ps_train)\n",
    "xgval = xgb.DMatrix(X_ps_test_enc, label = y_ps_test)\n",
    "xgb_params = xgbmodel.get_xgb_params()\n",
    "watchlist = [(xgtrain, 'train'), (xgval, 'val')]\n",
    "xgbresults = xgb.train(xgb_params, xgtrain, num_boost_round = 1000, evals = watchlist,\n",
    "                          early_stopping_rounds = 100, verbose_eval = 100)"
   ]
  },
  {
   "cell_type": "code",
   "execution_count": 238,
   "metadata": {},
   "outputs": [
    {
     "data": {
      "text/plain": [
       "Text(0.5, 1.0, 'Performance of model on validation set')"
      ]
     },
     "execution_count": 238,
     "metadata": {},
     "output_type": "execute_result"
    },
    {
     "data": {
      "image/png": "[encoded data removed]",
      "text/plain": [
       "<Figure size 432x288 with 1 Axes>"
      ]
     },
     "metadata": {},
     "output_type": "display_data"
    }
   ],
   "source": [
    "plt.plot(xgbresults.predict(xgb.DMatrix(X_ps_test_enc)), y_ps_test, 'o')\n",
    "plt.xlabel('Predicted log sales prices')\n",
    "plt.ylabel('Actual log sales prices')\n",
    "plt.title('Performance of model on validation set')"
   ]
  },
  {
   "cell_type": "code",
   "execution_count": 278,
   "metadata": {},
   "outputs": [],
   "source": [
    "# Finally training on full data with required number of estimators\n",
    "xgbmodel_full = XGBRegressor(learning_rate=0.05, n_estimators=106, n_jobs = -1, eval_metric = 'rmse', seed = 44, \n",
    "                        min_child_weight = 14, gamma = 0.15, subsample = 0.95, colsample_bytree=.8, max_depth = 5)\n",
    "xgb_params = xgbmodel.get_xgb_params()\n",
    "xgbresults_final = xgbmodel_full.fit(np.concatenate([X_ps_train_enc, X_ps_test_enc]), np.concatenate([y_ps_train, y_ps_test]))"
   ]
  },
  {
   "cell_type": "code",
   "execution_count": 282,
   "metadata": {},
   "outputs": [
    {
     "data": {
      "text/plain": [
       "Text(0.5, 1.0, '10 most important features for sales price')"
      ]
     },
     "execution_count": 282,
     "metadata": {},
     "output_type": "execute_result"
    },
    {
     "data": {
      "image/png": "[encoded data removed]",
      "text/plain": [
       "<Figure size 432x288 with 1 Axes>"
      ]
     },
     "metadata": {},
     "output_type": "display_data"
    }
   ],
   "source": [
    "pd.Series(data = xgbresults_final.feature_importances_, index=feat).sort_values()[-10:].plot('bar')\n",
    "plt.xlabel('Features')\n",
    "plt.ylabel('Importances')\n",
    "plt.title('10 most important features for sales price')"
   ]
  }
 ],
 "metadata": {
  "kernelspec": {
   "display_name": "Python 3",
   "language": "python",
   "name": "python3"
  },
  "language_info": {
   "codemirror_mode": {
    "name": "ipython",
    "version": 3
   },
   "file_extension": ".py",
   "mimetype": "text/x-python",
   "name": "python",
   "nbconvert_exporter": "python",
   "pygments_lexer": "ipython3",
   "version": "3.6.2"
  }
 },
 "nbformat": 4,
 "nbformat_minor": 2
}
